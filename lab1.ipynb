{
 "cells": [
  {
   "cell_type": "markdown",
   "id": "ce7097b8-5846-48c1-94a6-1f812bf273bc",
   "metadata": {},
   "source": [
    "Example Home"
   ]
  },
  {
   "cell_type": "code",
   "execution_count": 2,
   "id": "b7d8a8dc-2ae9-463f-9eed-90ef126b2d10",
   "metadata": {},
   "outputs": [
    {
     "name": "stdout",
     "output_type": "stream",
     "text": [
      "Hello,world!\n"
     ]
    }
   ],
   "source": [
    "print(\"Hello,world!\")"
   ]
  },
  {
   "cell_type": "markdown",
   "id": "ce0ceed4-3cec-48da-bc3d-1750b53f5eab",
   "metadata": {},
   "source": [
    "Python version"
   ]
  },
  {
   "cell_type": "code",
   "execution_count": 5,
   "id": "01d48a42-ce3c-48f9-a711-5ecdd9625b19",
   "metadata": {},
   "outputs": [
    {
     "name": "stdout",
     "output_type": "stream",
     "text": [
      "3.12.7 | packaged by Anaconda, Inc. | (main, Oct  4 2024, 13:17:27) [MSC v.1929 64 bit (AMD64)]\n"
     ]
    }
   ],
   "source": [
    "import sys\n",
    "print(sys.version)"
   ]
  },
  {
   "cell_type": "markdown",
   "id": "090bc154-050f-4cd3-bcb4-59dc141bf606",
   "metadata": {},
   "source": [
    "Identation"
   ]
  },
  {
   "cell_type": "code",
   "execution_count": 8,
   "id": "4e5bc6ef-c896-4785-a8ee-e4db698e25c0",
   "metadata": {},
   "outputs": [
    {
     "name": "stdout",
     "output_type": "stream",
     "text": [
      "Five is greater than two!\n"
     ]
    }
   ],
   "source": [
    "if 5>2:\n",
    "    print(\"Five is greater than two!\")"
   ]
  },
  {
   "cell_type": "code",
   "execution_count": 10,
   "id": "fb54fb96-2692-45f4-9b99-1029098bc288",
   "metadata": {},
   "outputs": [
    {
     "name": "stdout",
     "output_type": "stream",
     "text": [
      "Five is grater than two\n",
      "Five is grater than two\n"
     ]
    }
   ],
   "source": [
    "if 5>2:\n",
    "    print(\"Five is grater than two\")\n",
    "    print(\"Five is grater than two\")"
   ]
  },
  {
   "cell_type": "markdown",
   "id": "fdb4420b-f5d1-48d4-be37-f727b9665e75",
   "metadata": {},
   "source": [
    "Variables"
   ]
  },
  {
   "cell_type": "code",
   "execution_count": 18,
   "id": "5d4d0d84-eb77-4867-be95-823620f83d77",
   "metadata": {},
   "outputs": [
    {
     "name": "stdout",
     "output_type": "stream",
     "text": [
      "5\n",
      "Hello,World!\n"
     ]
    }
   ],
   "source": [
    "x=5\n",
    "y=\"Hello,World!\"\n",
    "print(x)\n",
    "print(y)"
   ]
  },
  {
   "cell_type": "markdown",
   "id": "3e584705-e984-49f1-909d-a6bbe9c24f09",
   "metadata": {},
   "source": [
    "Comments"
   ]
  },
  {
   "cell_type": "code",
   "execution_count": 20,
   "id": "1fb69c11-6f2c-44ab-b0a1-26902877795f",
   "metadata": {},
   "outputs": [
    {
     "name": "stdout",
     "output_type": "stream",
     "text": [
      "Hello,World!\n"
     ]
    }
   ],
   "source": [
    "#This is comment\n",
    "print(\"Hello,World!\")"
   ]
  },
  {
   "cell_type": "code",
   "execution_count": 22,
   "id": "cdfd5b8a-b83e-4063-ac07-4dfcf1f06fae",
   "metadata": {},
   "outputs": [
    {
     "name": "stdout",
     "output_type": "stream",
     "text": [
      "Cheers,Mate!\n"
     ]
    }
   ],
   "source": [
    "#print(\"Hello,World!\")\n",
    "print(\"Cheers,Mate!\")"
   ]
  },
  {
   "cell_type": "code",
   "execution_count": 24,
   "id": "830f040e-acb9-4a69-9c96-7fbe8f38a393",
   "metadata": {},
   "outputs": [
    {
     "name": "stdout",
     "output_type": "stream",
     "text": [
      "Hello,World!\n"
     ]
    }
   ],
   "source": [
    "#This is comment\n",
    "#written in\n",
    "#more than just one line\n",
    "print(\"Hello,World!\")"
   ]
  },
  {
   "cell_type": "code",
   "execution_count": 26,
   "id": "937d5cde-c2c8-421f-ab7b-150d3b6dda8b",
   "metadata": {},
   "outputs": [
    {
     "name": "stdout",
     "output_type": "stream",
     "text": [
      "Hello,World!\n"
     ]
    }
   ],
   "source": [
    "\"\"\"\n",
    "This is comment \n",
    "written in\n",
    "more than just one line\n",
    "\"\"\"\n",
    "print(\"Hello,World!\")"
   ]
  },
  {
   "cell_type": "markdown",
   "id": "80e06603-03a3-41f8-bd79-4b590b82e179",
   "metadata": {},
   "source": [
    "Variables"
   ]
  },
  {
   "cell_type": "code",
   "execution_count": 30,
   "id": "af971285-5d6b-4c66-ab03-6b0bab5508ae",
   "metadata": {},
   "outputs": [
    {
     "name": "stdout",
     "output_type": "stream",
     "text": [
      "5\n",
      "John\n"
     ]
    }
   ],
   "source": [
    "x=5\n",
    "y=\"John\"\n",
    "print(x)\n",
    "print(y)"
   ]
  },
  {
   "cell_type": "code",
   "execution_count": 32,
   "id": "778859fd-9d0f-47ae-a419-3c0876a97461",
   "metadata": {},
   "outputs": [
    {
     "name": "stdout",
     "output_type": "stream",
     "text": [
      "Sally\n"
     ]
    }
   ],
   "source": [
    "x=4 #x is of type int\n",
    "x=\"Sally\" #x is now of type str\n",
    "print(x)"
   ]
  },
  {
   "cell_type": "markdown",
   "id": "150c5737-d573-4263-ba73-262015649134",
   "metadata": {},
   "source": [
    "Casting"
   ]
  },
  {
   "cell_type": "code",
   "execution_count": 36,
   "id": "8225d414-5ae1-4732-ad43-3e6b492a7525",
   "metadata": {},
   "outputs": [
    {
     "name": "stdout",
     "output_type": "stream",
     "text": [
      "3\n",
      "3\n",
      "3.0\n"
     ]
    }
   ],
   "source": [
    "x=str(3) #x will be 3\n",
    "y=str(3) #y will be 3\n",
    "z=float(3.0) #z will be 3.0\n",
    "print(x)\n",
    "print(y)\n",
    "print(z)"
   ]
  },
  {
   "cell_type": "markdown",
   "id": "d3fa5994-169b-42f7-bcbf-32da726408e7",
   "metadata": {},
   "source": [
    "Get the type"
   ]
  },
  {
   "cell_type": "code",
   "execution_count": 38,
   "id": "f1963afc-0b13-4864-b88c-0c035f2f0ba7",
   "metadata": {},
   "outputs": [
    {
     "name": "stdout",
     "output_type": "stream",
     "text": [
      "<class 'int'>\n",
      "<class 'str'>\n"
     ]
    }
   ],
   "source": [
    "x=5\n",
    "y=\"John\"\n",
    "print(type(x))\n",
    "print(type(y))"
   ]
  },
  {
   "cell_type": "markdown",
   "id": "b3e358b8-b061-4c79-b0d8-e6ad78cbd977",
   "metadata": {},
   "source": [
    "Single or Double quotes"
   ]
  },
  {
   "cell_type": "code",
   "execution_count": 40,
   "id": "a5bb89ee-7ac4-46fd-9557-8d418177251d",
   "metadata": {},
   "outputs": [
    {
     "name": "stdout",
     "output_type": "stream",
     "text": [
      "John\n"
     ]
    }
   ],
   "source": [
    "x=\"John\"\n",
    "#is the same as\n",
    "x='John'\n",
    "print(x)"
   ]
  },
  {
   "cell_type": "markdown",
   "id": "411764e9-61a5-4ef7-a28c-f794ce00e9d0",
   "metadata": {},
   "source": [
    "Case sensitive"
   ]
  },
  {
   "cell_type": "code",
   "execution_count": 42,
   "id": "3e7855b7-c542-4097-95ce-e10bcd3e6c3e",
   "metadata": {},
   "outputs": [
    {
     "name": "stdout",
     "output_type": "stream",
     "text": [
      "4\n",
      "Sally\n"
     ]
    }
   ],
   "source": [
    "a=4\n",
    "A=\"Sally\"\n",
    "#A will not overwrite a\n",
    "print(a)\n",
    "print(A)"
   ]
  },
  {
   "cell_type": "markdown",
   "id": "eefa7e3d-beca-4f31-ae3e-649e21f3b4d7",
   "metadata": {},
   "source": [
    "Variable names"
   ]
  },
  {
   "cell_type": "code",
   "execution_count": 44,
   "id": "6ecfeb9e-337e-4755-bdb9-c16504bfd979",
   "metadata": {},
   "outputs": [
    {
     "name": "stdout",
     "output_type": "stream",
     "text": [
      "John\n",
      "John\n",
      "John\n",
      "John\n",
      "John\n",
      "John\n"
     ]
    }
   ],
   "source": [
    "myvar=\"John\"\n",
    "my_var=\"John\"\n",
    "_my_var=\"John\"\n",
    "myVar=\"John\"\n",
    "MYVAR=\"John\"\n",
    "myvar2=\"John\"\n",
    "print(myvar)\n",
    "print(my_var)\n",
    "print(_my_var)\n",
    "print(myVar)\n",
    "print(MYVAR)\n",
    "print(myvar2)"
   ]
  },
  {
   "cell_type": "markdown",
   "id": "4e68320a-0dd4-4269-b4ae-87f34ca1a3ce",
   "metadata": {},
   "source": [
    "many values to multiple variables"
   ]
  },
  {
   "cell_type": "code",
   "execution_count": 46,
   "id": "d7b831b1-9d8d-4b0a-b500-324d0c569dc8",
   "metadata": {},
   "outputs": [
    {
     "name": "stdout",
     "output_type": "stream",
     "text": [
      "Orange\n",
      "Banana\n",
      "Cherry\n"
     ]
    }
   ],
   "source": [
    "x,y,z=\"Orange\",\"Banana\",\"Cherry\"\n",
    "print(x)\n",
    "print(y)\n",
    "print(z)"
   ]
  },
  {
   "cell_type": "markdown",
   "id": "8b6d5580-b47b-49fa-a01f-b7c83b454862",
   "metadata": {},
   "source": [
    "One Value to Multiple Variables"
   ]
  },
  {
   "cell_type": "code",
   "execution_count": 48,
   "id": "093ee39a-750d-4826-b98e-ccfc12144c14",
   "metadata": {},
   "outputs": [
    {
     "name": "stdout",
     "output_type": "stream",
     "text": [
      "Orange\n",
      "Orange\n",
      "Orange\n"
     ]
    }
   ],
   "source": [
    "x=y=z=\"Orange\"\n",
    "print(x)\n",
    "print(y)\n",
    "print(z)"
   ]
  },
  {
   "cell_type": "markdown",
   "id": "529c61b4-8780-4388-a269-a856fec59ce9",
   "metadata": {},
   "source": [
    "Unpack a Collection"
   ]
  },
  {
   "cell_type": "code",
   "execution_count": 52,
   "id": "71d0f4cf-2ce7-4f10-9e8f-4530abd48c85",
   "metadata": {},
   "outputs": [
    {
     "name": "stdout",
     "output_type": "stream",
     "text": [
      "apple\n",
      "banana\n",
      "cherry\n"
     ]
    }
   ],
   "source": [
    "fruits=[\"apple\",\"banana\",\"cherry\"]\n",
    "x,y,z=fruits\n",
    "print(x)\n",
    "print(y)\n",
    "print(z)"
   ]
  },
  {
   "cell_type": "markdown",
   "id": "0f5b290e-2827-40d7-b244-5aa53dda075b",
   "metadata": {},
   "source": [
    "Output Variables"
   ]
  },
  {
   "cell_type": "code",
   "execution_count": 54,
   "id": "8606a2fc-f760-4e22-80fd-d22858fcae60",
   "metadata": {},
   "outputs": [
    {
     "name": "stdout",
     "output_type": "stream",
     "text": [
      "Python is awesome\n"
     ]
    }
   ],
   "source": [
    "x=\"Python is awesome\"\n",
    "print(x)"
   ]
  },
  {
   "cell_type": "code",
   "execution_count": 56,
   "id": "cda34e18-fd3c-4b8e-be5a-8a81e6556281",
   "metadata": {},
   "outputs": [
    {
     "name": "stdout",
     "output_type": "stream",
     "text": [
      "Python is awesome\n"
     ]
    }
   ],
   "source": [
    "x=\"Python\"\n",
    "y=\"is\"\n",
    "z=\"awesome\"\n",
    "print(x,y,z)"
   ]
  },
  {
   "cell_type": "code",
   "execution_count": 62,
   "id": "f091703d-d911-41f8-9d3f-7e8861b7c881",
   "metadata": {},
   "outputs": [
    {
     "name": "stdout",
     "output_type": "stream",
     "text": [
      "Python is awesome\n"
     ]
    }
   ],
   "source": [
    "x=\"Python \"\n",
    "y=\"is \"\n",
    "z=\"awesome\"\n",
    "print(x + y + z)"
   ]
  },
  {
   "cell_type": "code",
   "execution_count": 64,
   "id": "09f46e82-0637-4af6-b69a-859532713ee8",
   "metadata": {},
   "outputs": [
    {
     "name": "stdout",
     "output_type": "stream",
     "text": [
      "15\n"
     ]
    }
   ],
   "source": [
    "x=5\n",
    "y=10\n",
    "print(x+y)"
   ]
  },
  {
   "cell_type": "code",
   "execution_count": 66,
   "id": "6e91a600-9e01-4a9c-816c-0e3421ee4b6e",
   "metadata": {},
   "outputs": [
    {
     "name": "stdout",
     "output_type": "stream",
     "text": [
      "5 John\n"
     ]
    }
   ],
   "source": [
    "x=5\n",
    "y=\"John\"\n",
    "print(x,y)"
   ]
  },
  {
   "cell_type": "markdown",
   "id": "7e6815fd-05f4-41eb-82f4-7402fefae25f",
   "metadata": {},
   "source": [
    "Global Variables"
   ]
  },
  {
   "cell_type": "code",
   "execution_count": 84,
   "id": "d5160e12-43e6-415d-bb5d-3f3dc0deb8d8",
   "metadata": {},
   "outputs": [
    {
     "name": "stdout",
     "output_type": "stream",
     "text": [
      "Python is awesome\n"
     ]
    }
   ],
   "source": [
    "x=\"awesome\"\n",
    "\n",
    "def myfunc():\n",
    " print(\"Python is \" + x)\n",
    "\n",
    "myfunc()"
   ]
  },
  {
   "cell_type": "code",
   "execution_count": 82,
   "id": "f515028a-f656-4e7c-b7a6-0954c7c6ceb6",
   "metadata": {},
   "outputs": [
    {
     "name": "stdout",
     "output_type": "stream",
     "text": [
      "Python is fantastic\n",
      "Python is awesome\n"
     ]
    }
   ],
   "source": [
    "x=\"awesome\"\n",
    "\n",
    "def myfunc():\n",
    "    x=\"fantastic\"\n",
    "    print(\"Python is \" + x)\n",
    "\n",
    "myfunc()\n",
    "\n",
    "print(\"Python is \" + x)"
   ]
  },
  {
   "cell_type": "markdown",
   "id": "4c996f71-6ef0-4d28-bf22-d26bd7f7561d",
   "metadata": {},
   "source": [
    "Global keyword"
   ]
  },
  {
   "cell_type": "code",
   "execution_count": 88,
   "id": "fb709c6c-8b52-4a28-8c5e-8d888e2fc2a5",
   "metadata": {},
   "outputs": [
    {
     "name": "stdout",
     "output_type": "stream",
     "text": [
      "Python is fantastic\n"
     ]
    }
   ],
   "source": [
    "def myfunc():\n",
    "    global x\n",
    "    x=\"fantastic\"\n",
    "\n",
    "myfunc()\n",
    "\n",
    "print(\"Python is \"+x)"
   ]
  },
  {
   "cell_type": "code",
   "execution_count": 92,
   "id": "a750754c-bd1a-4aea-8bf5-9ef22628ae32",
   "metadata": {},
   "outputs": [
    {
     "name": "stdout",
     "output_type": "stream",
     "text": [
      "Python is fantastic\n"
     ]
    }
   ],
   "source": [
    "x=\"awesome\"\n",
    "\n",
    "def myfunc():\n",
    "    global x\n",
    "    x=\"fantastic\"\n",
    "\n",
    "myfunc()\n",
    "\n",
    "print(\"Python is \" + x)"
   ]
  },
  {
   "cell_type": "markdown",
   "id": "73937758-01a6-43d3-a137-5dd14227bb3b",
   "metadata": {},
   "source": [
    "Text Type:\tstr\n",
    "Numeric Types:\tint, float, complex\n",
    "Sequence Types:\tlist, tuple, range\n",
    "Mapping Type:\tdict\n",
    "Set Types:\tset, frozenset\n",
    "Boolean Type:\tbool\n",
    "Binary Types:\tbytes, bytearray, memoryview\n",
    "None Type:\tNoneType"
   ]
  },
  {
   "cell_type": "code",
   "execution_count": 94,
   "id": "13e829c8-f97d-4a54-91bc-67765e46c260",
   "metadata": {},
   "outputs": [
    {
     "name": "stdout",
     "output_type": "stream",
     "text": [
      "<class 'int'>\n"
     ]
    }
   ],
   "source": [
    "x=5\n",
    "print(type(x))"
   ]
  },
  {
   "cell_type": "code",
   "execution_count": 96,
   "id": "624900ca-1ba2-4e17-a6b6-38d7954106f1",
   "metadata": {},
   "outputs": [
    {
     "name": "stdout",
     "output_type": "stream",
     "text": [
      "<class 'str'>\n"
     ]
    }
   ],
   "source": [
    "x=\"Hello World\"\n",
    "print(type(x))"
   ]
  },
  {
   "cell_type": "code",
   "execution_count": 98,
   "id": "2e4a3281-28d3-4fd0-ac74-5acf9fc44a99",
   "metadata": {},
   "outputs": [
    {
     "name": "stdout",
     "output_type": "stream",
     "text": [
      "<class 'float'>\n"
     ]
    }
   ],
   "source": [
    "x=20.5\n",
    "print(type(x))"
   ]
  },
  {
   "cell_type": "code",
   "execution_count": 100,
   "id": "713a8a53-d9b4-4e00-89cf-7f7b81ea9f0c",
   "metadata": {},
   "outputs": [
    {
     "name": "stdout",
     "output_type": "stream",
     "text": [
      "<class 'complex'>\n"
     ]
    }
   ],
   "source": [
    "x=1j\n",
    "print(type(x))"
   ]
  },
  {
   "cell_type": "code",
   "execution_count": 102,
   "id": "4393b607-25c6-4ff9-b1f9-8e27ae509939",
   "metadata": {},
   "outputs": [
    {
     "name": "stdout",
     "output_type": "stream",
     "text": [
      "<class 'list'>\n"
     ]
    }
   ],
   "source": [
    "x=[\"apple\",\"banana\",\"cherry\"]\n",
    "print(type(x))"
   ]
  },
  {
   "cell_type": "code",
   "execution_count": 104,
   "id": "e735f312-7f8a-47fa-b571-39b3a6511ed6",
   "metadata": {},
   "outputs": [
    {
     "name": "stdout",
     "output_type": "stream",
     "text": [
      "<class 'tuple'>\n"
     ]
    }
   ],
   "source": [
    "x=(\"apple\",\"banana\",\"cherry\")\n",
    "print(type(x))"
   ]
  },
  {
   "cell_type": "code",
   "execution_count": 106,
   "id": "385e7fba-148b-41bb-93cc-b30be872c73b",
   "metadata": {},
   "outputs": [
    {
     "name": "stdout",
     "output_type": "stream",
     "text": [
      "<class 'range'>\n"
     ]
    }
   ],
   "source": [
    "x=range(6)\n",
    "print(type(x))"
   ]
  },
  {
   "cell_type": "code",
   "execution_count": 110,
   "id": "0be6aaa9-e7f2-497b-9fb8-c3dfb3403828",
   "metadata": {},
   "outputs": [
    {
     "name": "stdout",
     "output_type": "stream",
     "text": [
      "<class 'dict'>\n"
     ]
    }
   ],
   "source": [
    "x={\"name\":\"John\",\"age\":36}\n",
    "print(type(x))"
   ]
  },
  {
   "cell_type": "code",
   "execution_count": 112,
   "id": "03cfbf0f-c262-4c6a-9bb5-cc9052b41dd6",
   "metadata": {},
   "outputs": [
    {
     "name": "stdout",
     "output_type": "stream",
     "text": [
      "<class 'set'>\n"
     ]
    }
   ],
   "source": [
    "x={\"apple\",\"banana\",\"cherry\"}\n",
    "print(type(x))"
   ]
  },
  {
   "cell_type": "code",
   "execution_count": 118,
   "id": "3e6344ed-bb00-4373-b9da-bb2fed819a2f",
   "metadata": {},
   "outputs": [
    {
     "name": "stdout",
     "output_type": "stream",
     "text": [
      "<class 'frozenset'>\n"
     ]
    }
   ],
   "source": [
    "x=frozenset({\"apple\",\"banana\",\"cherry\"})\n",
    "print(type(x))"
   ]
  },
  {
   "cell_type": "code",
   "execution_count": 120,
   "id": "8720ebe0-82e7-41e3-b255-7ed0c4456808",
   "metadata": {},
   "outputs": [
    {
     "name": "stdout",
     "output_type": "stream",
     "text": [
      "<class 'bool'>\n"
     ]
    }
   ],
   "source": [
    "x=True\n",
    "print(type(x))"
   ]
  },
  {
   "cell_type": "code",
   "execution_count": 122,
   "id": "93af57f1-1efc-4652-bb60-90ee2d914aef",
   "metadata": {},
   "outputs": [
    {
     "name": "stdout",
     "output_type": "stream",
     "text": [
      "<class 'bytes'>\n"
     ]
    }
   ],
   "source": [
    "x=b\"Hello\"\n",
    "print(type(x))"
   ]
  },
  {
   "cell_type": "code",
   "execution_count": 124,
   "id": "5dbe0224-3475-47b1-90da-4f07c73bd710",
   "metadata": {},
   "outputs": [
    {
     "name": "stdout",
     "output_type": "stream",
     "text": [
      "<class 'bytearray'>\n"
     ]
    }
   ],
   "source": [
    "x=bytearray(5)\n",
    "print(type(x))"
   ]
  },
  {
   "cell_type": "code",
   "execution_count": 126,
   "id": "bb471d4c-f67a-45d5-b7cd-ed32771918fe",
   "metadata": {},
   "outputs": [
    {
     "name": "stdout",
     "output_type": "stream",
     "text": [
      "<class 'memoryview'>\n"
     ]
    }
   ],
   "source": [
    "x=memoryview(bytes(5))\n",
    "print(type(x))"
   ]
  },
  {
   "cell_type": "code",
   "execution_count": 128,
   "id": "c0531aa2-8b28-458e-9f22-814b346627b7",
   "metadata": {},
   "outputs": [
    {
     "name": "stdout",
     "output_type": "stream",
     "text": [
      "<class 'NoneType'>\n"
     ]
    }
   ],
   "source": [
    "x=None\n",
    "print(type(x))"
   ]
  },
  {
   "cell_type": "markdown",
   "id": "962a0a31-790a-4cec-afb1-74045e111ba8",
   "metadata": {},
   "source": [
    "Setting the Specific Data Type"
   ]
  },
  {
   "cell_type": "code",
   "execution_count": 132,
   "id": "42f00622-984f-4456-a5c0-b01fa0985064",
   "metadata": {},
   "outputs": [
    {
     "name": "stdout",
     "output_type": "stream",
     "text": [
      "<class 'str'>\n",
      "Hello World\n",
      "<class 'int'>\n",
      "20\n",
      "<class 'float'>\n",
      "20.5\n",
      "<class 'complex'>\n",
      "1j\n",
      "<class 'list'>\n",
      "['apple', 'banana', 'cherry']\n",
      "<class 'tuple'>\n",
      "('apple', 'banana', 'cherry')\n",
      "<class 'range'>\n",
      "range(0, 6)\n",
      "<class 'dict'>\n",
      "{'name': 'John', 'age': 36}\n",
      "<class 'set'>\n",
      "{'cherry', 'banana', 'apple'}\n",
      "<class 'frozenset'>\n",
      "frozenset({'cherry', 'banana', 'apple'})\n",
      "<class 'bool'>\n",
      "True\n",
      "<class 'bytes'>\n",
      "b'\\x00\\x00\\x00\\x00\\x00'\n",
      "<class 'bytearray'>\n",
      "bytearray(b'\\x00\\x00\\x00\\x00\\x00')\n",
      "<class 'memoryview'>\n",
      "<memory at 0x0000026C424FD6C0>\n"
     ]
    }
   ],
   "source": [
    "x = str(\"Hello World\")\n",
    "y = int(20)\t\n",
    "a = float(20.5)\t\n",
    "b = complex(1j)\t\t\n",
    "c = list((\"apple\", \"banana\", \"cherry\"))\t\t\n",
    "d = tuple((\"apple\", \"banana\", \"cherry\"))\t\n",
    "e = range(6)\n",
    "f = dict(name=\"John\", age=36)\t\n",
    "g = set((\"apple\", \"banana\", \"cherry\"))\t\n",
    "h = frozenset((\"apple\", \"banana\", \"cherry\"))\t\t\n",
    "i = bool(5)\t\n",
    "j = bytes(5)\t\n",
    "k = bytearray(5)\t\t\n",
    "l = memoryview(bytes(5))\n",
    "print(type(x))\n",
    "print(x)\n",
    "print(type(y))\n",
    "print(y)\n",
    "print(type(a))\n",
    "print(a)\n",
    "print(type(b))\n",
    "print(b)\n",
    "print(type(c))\n",
    "print(c)\n",
    "print(type(d))\n",
    "print(d)\n",
    "print(type(e))\n",
    "print(e)\n",
    "print(type(f))\n",
    "print(f)\n",
    "print(type(g))\n",
    "print(g)\n",
    "print(type(h))\n",
    "print(h)\n",
    "print(type(i))\n",
    "print(i)\n",
    "print(type(j))\n",
    "print(j)\n",
    "print(type(k))\n",
    "print(k)\n",
    "print(type(l))\n",
    "print(l)"
   ]
  },
  {
   "cell_type": "markdown",
   "id": "9da4ddda-b21f-4790-9a7e-8c28ec39402d",
   "metadata": {},
   "source": [
    "Int"
   ]
  },
  {
   "cell_type": "code",
   "execution_count": 134,
   "id": "f7ac5c06-a177-4f60-9591-7f0f5bdf1758",
   "metadata": {},
   "outputs": [
    {
     "name": "stdout",
     "output_type": "stream",
     "text": [
      "<class 'int'>\n",
      "<class 'int'>\n",
      "<class 'int'>\n"
     ]
    }
   ],
   "source": [
    "x=1\n",
    "y=35656222554887711\n",
    "z = -3255522\n",
    "print(type(x))\n",
    "print(type(y))\n",
    "print(type(z))"
   ]
  },
  {
   "cell_type": "markdown",
   "id": "878639a1-5714-4725-9161-20f7ff7f3553",
   "metadata": {},
   "source": [
    "float"
   ]
  },
  {
   "cell_type": "code",
   "execution_count": 136,
   "id": "9911f6d6-d926-4252-8772-ad8646315158",
   "metadata": {},
   "outputs": [
    {
     "name": "stdout",
     "output_type": "stream",
     "text": [
      "<class 'float'>\n",
      "<class 'float'>\n",
      "<class 'float'>\n"
     ]
    }
   ],
   "source": [
    "x=1.10\n",
    "y=1.0\n",
    "z=-35.59\n",
    "print(type(x))\n",
    "print(type(y))\n",
    "print(type(z))"
   ]
  },
  {
   "cell_type": "code",
   "execution_count": 138,
   "id": "0ec56a6b-beb1-4d53-9041-92798d8f743b",
   "metadata": {},
   "outputs": [
    {
     "name": "stdout",
     "output_type": "stream",
     "text": [
      "<class 'float'>\n",
      "<class 'float'>\n",
      "<class 'float'>\n"
     ]
    }
   ],
   "source": [
    "x = 35e3\n",
    "y = 12E4\n",
    "z = -87.7e100\n",
    "\n",
    "print(type(x))\n",
    "print(type(y))\n",
    "print(type(z))"
   ]
  },
  {
   "cell_type": "markdown",
   "id": "8c121f3e-61b7-4d27-9ca5-afdd300a7bcb",
   "metadata": {},
   "source": [
    "Complex"
   ]
  },
  {
   "cell_type": "code",
   "execution_count": 140,
   "id": "336726e6-f3d0-42e8-914f-10697805f3f7",
   "metadata": {},
   "outputs": [
    {
     "name": "stdout",
     "output_type": "stream",
     "text": [
      "<class 'complex'>\n",
      "<class 'complex'>\n",
      "<class 'complex'>\n"
     ]
    }
   ],
   "source": [
    "x = 3+5j\n",
    "y = 5j\n",
    "z = -5j\n",
    "\n",
    "print(type(x))\n",
    "print(type(y))\n",
    "print(type(z))"
   ]
  },
  {
   "cell_type": "markdown",
   "id": "ba53605c-812f-4057-90da-0609edeee576",
   "metadata": {},
   "source": [
    "Convert from one type to another"
   ]
  },
  {
   "cell_type": "code",
   "execution_count": 142,
   "id": "eca4bc30-e841-4a15-aff4-e20f9b0c35df",
   "metadata": {},
   "outputs": [
    {
     "name": "stdout",
     "output_type": "stream",
     "text": [
      "1.0\n",
      "2\n",
      "(1+0j)\n",
      "<class 'float'>\n",
      "<class 'int'>\n",
      "<class 'complex'>\n"
     ]
    }
   ],
   "source": [
    "x=1 #int\n",
    "y=2.8 #float\n",
    "z=1j #complex\n",
    "#convert from int to float\n",
    "a=float(x)\n",
    "#convert from float to int\n",
    "b=int(y)\n",
    "#convert from int to complex\n",
    "c=complex(x)\n",
    "print(a)\n",
    "print(b)\n",
    "print(c)\n",
    "print(type(a))\n",
    "print(type(b))\n",
    "print(type(c))\n"
   ]
  },
  {
   "cell_type": "code",
   "execution_count": 144,
   "id": "956613d5-8e6f-456b-bd18-c43428bfbe65",
   "metadata": {},
   "outputs": [
    {
     "name": "stdout",
     "output_type": "stream",
     "text": [
      "6\n"
     ]
    }
   ],
   "source": [
    "import random\n",
    "print(random.randrange(1,10))"
   ]
  },
  {
   "cell_type": "code",
   "execution_count": 146,
   "id": "b4b2ef19-705f-45f4-ac95-87fd95ffed3f",
   "metadata": {},
   "outputs": [
    {
     "name": "stdout",
     "output_type": "stream",
     "text": [
      "1\n",
      "2\n",
      "3\n"
     ]
    }
   ],
   "source": [
    "x=int(1) #x will be 1\n",
    "y=int(2.8) #y will be 2\n",
    "z=int(\"3\") #z will be 3\n",
    "print(x)\n",
    "print(y)\n",
    "print(z)"
   ]
  },
  {
   "cell_type": "code",
   "execution_count": 148,
   "id": "2b0091c1-6b20-4993-8539-ea4b9adff714",
   "metadata": {},
   "outputs": [
    {
     "name": "stdout",
     "output_type": "stream",
     "text": [
      "1.0\n",
      "2.8\n",
      "3.0\n",
      "4.2\n"
     ]
    }
   ],
   "source": [
    "x=float(1) #x will be 1.0\n",
    "y=float(2.8) #y will be 2.8\n",
    "z=float(\"3\") #z will be 3.0\n",
    "w=float(\"4.2\") #w will be 4.2\n",
    "print(x)\n",
    "print(y)\n",
    "print(z)\n",
    "print(w)"
   ]
  },
  {
   "cell_type": "code",
   "execution_count": null,
   "id": "8b2e44af-4df2-4260-b905-6b8ef9b9fc40",
   "metadata": {},
   "outputs": [],
   "source": [
    "x=str(\"s1\") #x will be 's1'\n",
    "y=str(2) #y will be '2'\n",
    "z=str(3.0) #z will be '3.0'"
   ]
  },
  {
   "cell_type": "markdown",
   "id": "a40eacd9-282b-448b-91ba-4c4adc7c3c8b",
   "metadata": {},
   "source": [
    "Strings"
   ]
  },
  {
   "cell_type": "code",
   "execution_count": 154,
   "id": "68254f79-f85a-4766-8e2c-f95182670ce1",
   "metadata": {},
   "outputs": [
    {
     "name": "stdout",
     "output_type": "stream",
     "text": [
      "e\n"
     ]
    }
   ],
   "source": [
    "a=\"Hello,World!\"\n",
    "print(a[1])"
   ]
  },
  {
   "cell_type": "code",
   "execution_count": 158,
   "id": "a704414f-1117-47b4-b571-b891c93050f9",
   "metadata": {},
   "outputs": [
    {
     "name": "stdout",
     "output_type": "stream",
     "text": [
      "b\n",
      "a\n",
      "n\n",
      "a\n",
      "n\n",
      "a\n"
     ]
    }
   ],
   "source": [
    "for x in 'banana':\n",
    " print (x)"
   ]
  },
  {
   "cell_type": "code",
   "execution_count": 166,
   "id": "03a95d33-c820-49b4-8ab8-c583468be84f",
   "metadata": {},
   "outputs": [
    {
     "name": "stdout",
     "output_type": "stream",
     "text": [
      "13\n"
     ]
    }
   ],
   "source": [
    "a = \"Hello, World!\"\n",
    "print(len(a))"
   ]
  },
  {
   "cell_type": "code",
   "execution_count": 168,
   "id": "db033df0-f8a1-42b2-bd1e-4bd74b9a5aa9",
   "metadata": {},
   "outputs": [
    {
     "name": "stdout",
     "output_type": "stream",
     "text": [
      "True\n"
     ]
    }
   ],
   "source": [
    "txt=\"The best things in life are free!\"\n",
    "print(\"free\" in txt)"
   ]
  },
  {
   "cell_type": "code",
   "execution_count": 172,
   "id": "57a32e40-1081-42a8-9fa5-38e445c1828c",
   "metadata": {},
   "outputs": [
    {
     "name": "stdout",
     "output_type": "stream",
     "text": [
      "Yes,'free' is present.\n"
     ]
    }
   ],
   "source": [
    "txt=\"The best things in life are free!\"\n",
    "if \"free\" in txt:\n",
    "    print(\"Yes,'free' is present.\")"
   ]
  },
  {
   "cell_type": "code",
   "execution_count": 174,
   "id": "845dc02b-3afa-4346-a08a-0cd79c59d11c",
   "metadata": {},
   "outputs": [
    {
     "name": "stdout",
     "output_type": "stream",
     "text": [
      "True\n"
     ]
    }
   ],
   "source": [
    "txt=\"The best things in life are free\"\n",
    "print(\"expensive\" not in txt)"
   ]
  },
  {
   "cell_type": "code",
   "execution_count": 178,
   "id": "ceda8cd4-5912-4a72-aedf-e2a74fd75fbb",
   "metadata": {},
   "outputs": [
    {
     "name": "stdout",
     "output_type": "stream",
     "text": [
      "No,'expensive' is NOT present.\n"
     ]
    }
   ],
   "source": [
    "txt=\"The best things in life are free!\"\n",
    "if \"expensive\" not in txt:\n",
    "    print(\"No,'expensive' is NOT present.\")"
   ]
  },
  {
   "cell_type": "code",
   "execution_count": 180,
   "id": "6f1dfff2-01c5-4690-8b7f-4b88922f28d6",
   "metadata": {},
   "outputs": [
    {
     "name": "stdout",
     "output_type": "stream",
     "text": [
      "llo\n"
     ]
    }
   ],
   "source": [
    "b=\"Hello,World!\"\n",
    "print(b[2:5])"
   ]
  },
  {
   "cell_type": "code",
   "execution_count": 182,
   "id": "3a0757ef-1a6f-42c2-9233-59ebee16d473",
   "metadata": {},
   "outputs": [
    {
     "name": "stdout",
     "output_type": "stream",
     "text": [
      "Hello\n"
     ]
    }
   ],
   "source": [
    "b=\"Hello,World!\"\n",
    "print(b[:5])"
   ]
  },
  {
   "cell_type": "code",
   "execution_count": 184,
   "id": "1e6591da-1598-4f6e-8cb9-e37738e96ada",
   "metadata": {},
   "outputs": [
    {
     "name": "stdout",
     "output_type": "stream",
     "text": [
      "llo,World!\n"
     ]
    }
   ],
   "source": [
    "b=\"Hello,World!\"\n",
    "print(b[2:])"
   ]
  },
  {
   "cell_type": "code",
   "execution_count": 186,
   "id": "7b28e960-c8c4-4167-a382-c680e8cfca41",
   "metadata": {},
   "outputs": [
    {
     "name": "stdout",
     "output_type": "stream",
     "text": [
      "orl\n"
     ]
    }
   ],
   "source": [
    "b=\"Hello,World!\"\n",
    "print(b[-5:-2])"
   ]
  },
  {
   "cell_type": "markdown",
   "id": "893e4019-bd05-44bd-959b-93b4e39a2fcc",
   "metadata": {},
   "source": [
    "Upper case"
   ]
  },
  {
   "cell_type": "code",
   "execution_count": 188,
   "id": "007bf817-bf9e-4bd8-b653-76e4c64efcbf",
   "metadata": {},
   "outputs": [
    {
     "name": "stdout",
     "output_type": "stream",
     "text": [
      "HELLO,WORLD!\n"
     ]
    }
   ],
   "source": [
    "a=\"Hello,World!\"\n",
    "print(a.upper())"
   ]
  },
  {
   "cell_type": "markdown",
   "id": "9c7f5524-38be-454e-9aac-5b38e8e2185f",
   "metadata": {},
   "source": [
    "Lower case"
   ]
  },
  {
   "cell_type": "code",
   "execution_count": 190,
   "id": "eaa74edd-59f8-4b1d-ad63-1819dc22ce1f",
   "metadata": {},
   "outputs": [
    {
     "name": "stdout",
     "output_type": "stream",
     "text": [
      "hello,world!\n"
     ]
    }
   ],
   "source": [
    "a=\"Hello,World!\"\n",
    "print(a.lower())"
   ]
  },
  {
   "cell_type": "markdown",
   "id": "2265d5cb-3b23-451d-85b2-46c92276db18",
   "metadata": {},
   "source": [
    "Remove Whitespace"
   ]
  },
  {
   "cell_type": "code",
   "execution_count": 194,
   "id": "d06138b2-659f-4130-b866-8ba113c6d766",
   "metadata": {},
   "outputs": [
    {
     "name": "stdout",
     "output_type": "stream",
     "text": [
      "Hello, World!\n"
     ]
    }
   ],
   "source": [
    "a=\" Hello, World! \"\n",
    "print(a.strip())"
   ]
  },
  {
   "cell_type": "markdown",
   "id": "aad44955-f095-433d-bd00-a189795708ba",
   "metadata": {},
   "source": [
    "Replace string"
   ]
  },
  {
   "cell_type": "code",
   "execution_count": 196,
   "id": "e2ebd0f7-4c08-44fe-835e-1d4702e0c50b",
   "metadata": {},
   "outputs": [
    {
     "name": "stdout",
     "output_type": "stream",
     "text": [
      "Jello,World!\n"
     ]
    }
   ],
   "source": [
    "a=\"Hello,World!\"\n",
    "print(a.replace(\"H\", \"J\"))"
   ]
  },
  {
   "cell_type": "markdown",
   "id": "e9f834ff-fb92-4281-9add-d022dbfca7ed",
   "metadata": {},
   "source": [
    "Split string"
   ]
  },
  {
   "cell_type": "code",
   "execution_count": 198,
   "id": "d26e147b-aea6-4750-b051-0c48a7c03d87",
   "metadata": {},
   "outputs": [
    {
     "name": "stdout",
     "output_type": "stream",
     "text": [
      "['Hello', 'world!']\n"
     ]
    }
   ],
   "source": [
    "a=\"Hello,world!\"\n",
    "print(a.split(\",\"))"
   ]
  },
  {
   "cell_type": "markdown",
   "id": "4269bd60-1ae1-402e-ae87-defa8bd1039f",
   "metadata": {},
   "source": [
    "String Concatenation"
   ]
  },
  {
   "cell_type": "code",
   "execution_count": 200,
   "id": "4683b371-d1df-4b26-ab4a-b11a61afcac5",
   "metadata": {},
   "outputs": [
    {
     "name": "stdout",
     "output_type": "stream",
     "text": [
      "HelloWorld\n"
     ]
    }
   ],
   "source": [
    "a=\"Hello\"\n",
    "b=\"World\"\n",
    "c=a+b\n",
    "print(c)"
   ]
  },
  {
   "cell_type": "code",
   "execution_count": 204,
   "id": "739ca8d7-a46f-4fcd-82cc-9faf873a8ddf",
   "metadata": {},
   "outputs": [
    {
     "name": "stdout",
     "output_type": "stream",
     "text": [
      "Hello World\n"
     ]
    }
   ],
   "source": [
    "a=\"Hello\"\n",
    "b=\"World\"\n",
    "c=a+\" \"+b\n",
    "print(c)"
   ]
  },
  {
   "cell_type": "markdown",
   "id": "9f1d95f7-660e-43bc-bad0-d9542d3ef6fb",
   "metadata": {},
   "source": [
    "F-Strings"
   ]
  },
  {
   "cell_type": "code",
   "execution_count": 210,
   "id": "78080981-20cc-4e76-9c4d-b3b5d900e5b8",
   "metadata": {},
   "outputs": [
    {
     "name": "stdout",
     "output_type": "stream",
     "text": [
      "My name is John,I am 36\n"
     ]
    }
   ],
   "source": [
    "age=36\n",
    "txt=f'My name is John,I am {age}'\n",
    "print(txt)"
   ]
  },
  {
   "cell_type": "markdown",
   "id": "77bf23f2-577b-498d-aafd-40c3cc5a9233",
   "metadata": {},
   "source": [
    "Placeholders and Modifiers"
   ]
  },
  {
   "cell_type": "code",
   "execution_count": 212,
   "id": "7a125ba5-fcae-4ca5-8b25-690a97948475",
   "metadata": {},
   "outputs": [
    {
     "name": "stdout",
     "output_type": "stream",
     "text": [
      "The price is 59 dollars\n"
     ]
    }
   ],
   "source": [
    "price=59\n",
    "txt=f'The price is {price} dollars'\n",
    "print(txt)"
   ]
  },
  {
   "cell_type": "code",
   "execution_count": 214,
   "id": "593e50fa-b392-4c45-a7d5-014af036ac14",
   "metadata": {},
   "outputs": [
    {
     "name": "stdout",
     "output_type": "stream",
     "text": [
      "The price is 59.00 dollars\n"
     ]
    }
   ],
   "source": [
    "price=59\n",
    "txt=f'The price is {price:.2f} dollars'\n",
    "print(txt)"
   ]
  },
  {
   "cell_type": "code",
   "execution_count": 220,
   "id": "eb95359b-7b06-4c72-8541-aac8841e5a07",
   "metadata": {},
   "outputs": [
    {
     "name": "stdout",
     "output_type": "stream",
     "text": [
      "The price is 1180 dollars\n"
     ]
    }
   ],
   "source": [
    "txt=f'The price is {59 * 20} dollars'\n",
    "print(txt)"
   ]
  },
  {
   "cell_type": "markdown",
   "id": "447bc156-35d0-4188-8771-853ca13a8afe",
   "metadata": {},
   "source": [
    "Escape Character"
   ]
  },
  {
   "cell_type": "code",
   "execution_count": 222,
   "id": "ba143bdf-9a6e-465c-b882-eaf347374f78",
   "metadata": {},
   "outputs": [
    {
     "name": "stdout",
     "output_type": "stream",
     "text": [
      "We are the so-called \"Vikings\" from the north.\n"
     ]
    }
   ],
   "source": [
    "txt = \"We are the so-called \\\"Vikings\\\" from the north.\"\n",
    "print(txt)"
   ]
  },
  {
   "cell_type": "code",
   "execution_count": 224,
   "id": "8065cf48-d094-4ad6-a0d6-8741a3932f1f",
   "metadata": {},
   "outputs": [
    {
     "name": "stdout",
     "output_type": "stream",
     "text": [
      "It's alright.\n"
     ]
    }
   ],
   "source": [
    "txt = 'It\\'s alright.'\n",
    "print(txt) "
   ]
  },
  {
   "cell_type": "code",
   "execution_count": 226,
   "id": "a276cfca-cab8-4a86-af5e-249e7bbbc0d0",
   "metadata": {},
   "outputs": [
    {
     "name": "stdout",
     "output_type": "stream",
     "text": [
      "This will insert one \\ (backslash).\n"
     ]
    }
   ],
   "source": [
    "txt = \"This will insert one \\\\ (backslash).\"\n",
    "print(txt)"
   ]
  },
  {
   "cell_type": "code",
   "execution_count": 228,
   "id": "a30c9aed-9c23-4553-9c88-4354bfc0ed67",
   "metadata": {},
   "outputs": [
    {
     "name": "stdout",
     "output_type": "stream",
     "text": [
      "Hello\n",
      "World!\n"
     ]
    }
   ],
   "source": [
    "txt = \"Hello\\nWorld!\"\n",
    "print(txt) \n"
   ]
  },
  {
   "cell_type": "code",
   "execution_count": 230,
   "id": "b27c78d1-9c68-4526-9f7d-674093ea2973",
   "metadata": {},
   "outputs": [
    {
     "name": "stdout",
     "output_type": "stream",
     "text": [
      "World!\n"
     ]
    }
   ],
   "source": [
    "txt = \"Hello\\rWorld!\"\n",
    "print(txt) "
   ]
  },
  {
   "cell_type": "code",
   "execution_count": 232,
   "id": "f862c316-934e-4ad7-8b2c-e4a34d5f84e0",
   "metadata": {},
   "outputs": [
    {
     "name": "stdout",
     "output_type": "stream",
     "text": [
      "Hello\tWorld!\n"
     ]
    }
   ],
   "source": [
    "txt = \"Hello\\tWorld!\"\n",
    "print(txt) \n"
   ]
  },
  {
   "cell_type": "code",
   "execution_count": 234,
   "id": "52b14646-8b81-41f9-adb6-7c259053953e",
   "metadata": {},
   "outputs": [
    {
     "name": "stdout",
     "output_type": "stream",
     "text": [
      "HelloWorld!\n"
     ]
    }
   ],
   "source": [
    "txt = \"Hello \\bWorld!\"\n",
    "print(txt) "
   ]
  },
  {
   "cell_type": "code",
   "execution_count": 236,
   "id": "ffa23041-c17f-4ac7-9ee9-b949564eb71d",
   "metadata": {},
   "outputs": [
    {
     "name": "stdout",
     "output_type": "stream",
     "text": [
      "Hello\n"
     ]
    }
   ],
   "source": [
    "txt = \"\\110\\145\\154\\154\\157\"\n",
    "print(txt) "
   ]
  },
  {
   "cell_type": "code",
   "execution_count": 238,
   "id": "d5b87df6-4277-42cc-b2ce-9126af4b4620",
   "metadata": {},
   "outputs": [
    {
     "name": "stdout",
     "output_type": "stream",
     "text": [
      "Hello\n"
     ]
    }
   ],
   "source": [
    "txt = \"\\x48\\x65\\x6c\\x6c\\x6f\"\n",
    "print(txt) "
   ]
  },
  {
   "cell_type": "code",
   "execution_count": 240,
   "id": "74b99626-0538-477e-b9cc-8ee4bd05887a",
   "metadata": {},
   "outputs": [
    {
     "name": "stdout",
     "output_type": "stream",
     "text": [
      "Hello \f",
      "World!\n"
     ]
    }
   ],
   "source": [
    "txt = \"Hello \\fWorld!\"\n",
    "print(txt) "
   ]
  }
 ],
 "metadata": {
  "kernelspec": {
   "display_name": "Python [conda env:base] *",
   "language": "python",
   "name": "conda-base-py"
  },
  "language_info": {
   "codemirror_mode": {
    "name": "ipython",
    "version": 3
   },
   "file_extension": ".py",
   "mimetype": "text/x-python",
   "name": "python",
   "nbconvert_exporter": "python",
   "pygments_lexer": "ipython3",
   "version": "3.12.7"
  }
 },
 "nbformat": 4,
 "nbformat_minor": 5
}

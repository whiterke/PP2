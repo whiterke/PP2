{
 "cells": [
  {
   "cell_type": "markdown",
   "id": "24e3e7ed-290d-4cd3-b0c5-563fdc55dc29",
   "metadata": {},
   "source": [
    "Boolean Values"
   ]
  },
  {
   "cell_type": "code",
   "execution_count": 3,
   "id": "f950488d-79e7-4685-843d-3232bbae5a4f",
   "metadata": {},
   "outputs": [
    {
     "name": "stdout",
     "output_type": "stream",
     "text": [
      "True\n",
      "False\n",
      "False\n"
     ]
    }
   ],
   "source": [
    "print(10 > 9)\n",
    "print(10 == 9)\n",
    "print(10 < 9)"
   ]
  },
  {
   "cell_type": "code",
   "execution_count": 5,
   "id": "08558923-8db6-4512-86d3-032111a20979",
   "metadata": {},
   "outputs": [
    {
     "name": "stdout",
     "output_type": "stream",
     "text": [
      "b is not greater than a\n"
     ]
    }
   ],
   "source": [
    "a = 200\n",
    "b = 33\n",
    "\n",
    "if b > a:\n",
    "  print(\"b is greater than a\")\n",
    "else:\n",
    "  print(\"b is not greater than a\")"
   ]
  },
  {
   "cell_type": "markdown",
   "id": "7ad74bb8-284b-4494-ab4f-67cd7c59ff6e",
   "metadata": {},
   "source": [
    "Evaluate Values and Variables"
   ]
  },
  {
   "cell_type": "code",
   "execution_count": 8,
   "id": "59e6a282-7caa-4cf7-8480-4f9640b7bef5",
   "metadata": {},
   "outputs": [
    {
     "name": "stdout",
     "output_type": "stream",
     "text": [
      "True\n",
      "True\n"
     ]
    }
   ],
   "source": [
    "print(bool(\"Hello\"))\n",
    "print(bool(15))"
   ]
  },
  {
   "cell_type": "code",
   "execution_count": 10,
   "id": "a4ba0c93-3a96-49bb-8f37-a709da567ea4",
   "metadata": {},
   "outputs": [
    {
     "name": "stdout",
     "output_type": "stream",
     "text": [
      "True\n",
      "True\n"
     ]
    }
   ],
   "source": [
    "x = \"Hello\"\n",
    "y = 15\n",
    "\n",
    "print(bool(x))\n",
    "print(bool(y))"
   ]
  },
  {
   "cell_type": "markdown",
   "id": "9847b2e1-8d6b-4306-b40f-7bc724cb2e75",
   "metadata": {},
   "source": [
    "Most Values are True"
   ]
  },
  {
   "cell_type": "code",
   "execution_count": 13,
   "id": "5aaace3a-9222-42e5-a927-f9247ba4c99b",
   "metadata": {},
   "outputs": [
    {
     "data": {
      "text/plain": [
       "True"
      ]
     },
     "execution_count": 13,
     "metadata": {},
     "output_type": "execute_result"
    }
   ],
   "source": [
    "bool(\"abc\")\n",
    "bool(123)\n",
    "bool([\"apple\", \"cherry\", \"banana\"])"
   ]
  },
  {
   "cell_type": "markdown",
   "id": "65dda54b-1541-4c7a-9a9b-fd6fc9014847",
   "metadata": {},
   "source": [
    "Some Values are False"
   ]
  },
  {
   "cell_type": "code",
   "execution_count": 16,
   "id": "55b86231-a3eb-4fe2-9c26-520373253ec1",
   "metadata": {},
   "outputs": [
    {
     "data": {
      "text/plain": [
       "False"
      ]
     },
     "execution_count": 16,
     "metadata": {},
     "output_type": "execute_result"
    }
   ],
   "source": [
    "bool(False)\n",
    "bool(None)\n",
    "bool(0)\n",
    "bool(\"\")\n",
    "bool(())\n",
    "bool([])\n",
    "bool({})"
   ]
  },
  {
   "cell_type": "code",
   "execution_count": 18,
   "id": "4157af83-5f9c-426f-a021-2d1598a5e0f7",
   "metadata": {},
   "outputs": [
    {
     "name": "stdout",
     "output_type": "stream",
     "text": [
      "False\n"
     ]
    }
   ],
   "source": [
    "class myclass():\n",
    "  def __len__(self):\n",
    "    return 0\n",
    "\n",
    "myobj = myclass()\n",
    "print(bool(myobj))\n"
   ]
  },
  {
   "cell_type": "markdown",
   "id": "e55cfd76-1c60-47aa-be9f-0f22bc5d4ae2",
   "metadata": {},
   "source": [
    "Functions can Return a Boolean"
   ]
  },
  {
   "cell_type": "code",
   "execution_count": 21,
   "id": "adb15c74-718d-4937-ba4d-121a0d56945c",
   "metadata": {},
   "outputs": [
    {
     "name": "stdout",
     "output_type": "stream",
     "text": [
      "True\n"
     ]
    }
   ],
   "source": [
    "def myFunction() :\n",
    "  return True\n",
    "\n",
    "print(myFunction())"
   ]
  },
  {
   "cell_type": "code",
   "execution_count": 23,
   "id": "37da7116-068b-46c5-98a4-b49c249c9b15",
   "metadata": {},
   "outputs": [
    {
     "name": "stdout",
     "output_type": "stream",
     "text": [
      "YES!\n"
     ]
    }
   ],
   "source": [
    "def myFunction() :\n",
    "  return True\n",
    "\n",
    "if myFunction():\n",
    "  print(\"YES!\")\n",
    "else:\n",
    "  print(\"NO!\")"
   ]
  },
  {
   "cell_type": "code",
   "execution_count": null,
   "id": "020106d5-1713-4227-a5c7-5125a0cf8181",
   "metadata": {},
   "outputs": [],
   "source": [
    "x = 200\n",
    "print(isinstance(x, int))"
   ]
  }
 ],
 "metadata": {
  "kernelspec": {
   "display_name": "Python [conda env:base] *",
   "language": "python",
   "name": "conda-base-py"
  },
  "language_info": {
   "codemirror_mode": {
    "name": "ipython",
    "version": 3
   },
   "file_extension": ".py",
   "mimetype": "text/x-python",
   "name": "python",
   "nbconvert_exporter": "python",
   "pygments_lexer": "ipython3",
   "version": "3.12.7"
  }
 },
 "nbformat": 4,
 "nbformat_minor": 5
}

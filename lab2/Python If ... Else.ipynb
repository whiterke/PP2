{
 "cells": [
  {
   "cell_type": "code",
   "execution_count": null,
   "id": "90b61614-c379-4b95-acf6-44dfc331056e",
   "metadata": {},
   "outputs": [],
   "source": [
    "Python Conditions and If statements"
   ]
  },
  {
   "cell_type": "code",
   "execution_count": null,
   "id": "8908f434-51c7-499e-8697-1d6e8fce8744",
   "metadata": {},
   "outputs": [],
   "source": [
    "Elif"
   ]
  },
  {
   "cell_type": "code",
   "execution_count": 1,
   "id": "31bba20a-cb32-4fbb-91f4-3d114f9811c6",
   "metadata": {},
   "outputs": [
    {
     "name": "stdout",
     "output_type": "stream",
     "text": [
      "a and b are equal\n"
     ]
    }
   ],
   "source": [
    "a = 33\n",
    "b = 33\n",
    "if b > a:\n",
    "  print(\"b is greater than a\")\n",
    "elif a == b:\n",
    "  print(\"a and b are equal\")"
   ]
  },
  {
   "cell_type": "code",
   "execution_count": null,
   "id": "3837b6b1-1fa4-427a-bc1c-5e2639775fa6",
   "metadata": {},
   "outputs": [],
   "source": [
    "Else"
   ]
  },
  {
   "cell_type": "code",
   "execution_count": 3,
   "id": "6cf7bae9-c7e3-4f02-94cd-0735f37b869a",
   "metadata": {},
   "outputs": [
    {
     "name": "stdout",
     "output_type": "stream",
     "text": [
      "a is greater than b\n"
     ]
    }
   ],
   "source": [
    "a = 200\n",
    "b = 33\n",
    "if b > a:\n",
    "  print(\"b is greater than a\")\n",
    "elif a == b:\n",
    "  print(\"a and b are equal\")\n",
    "else:\n",
    "  print(\"a is greater than b\")"
   ]
  },
  {
   "cell_type": "code",
   "execution_count": 5,
   "id": "f0934a45-e21c-4481-bfc5-1ba91aca5b48",
   "metadata": {},
   "outputs": [
    {
     "name": "stdout",
     "output_type": "stream",
     "text": [
      "b is not greater than a\n"
     ]
    }
   ],
   "source": [
    "a = 200\n",
    "b = 33\n",
    "if b > a:\n",
    "  print(\"b is greater than a\")\n",
    "else:\n",
    "  print(\"b is not greater than a\")"
   ]
  },
  {
   "cell_type": "code",
   "execution_count": null,
   "id": "cf8ad646-0f46-4900-b397-f66524e9587d",
   "metadata": {},
   "outputs": [],
   "source": [
    "Short Hand If"
   ]
  },
  {
   "cell_type": "code",
   "execution_count": 7,
   "id": "037f9ffb-79c4-4320-b627-87b7b5790548",
   "metadata": {},
   "outputs": [
    {
     "name": "stdout",
     "output_type": "stream",
     "text": [
      "a is greater than b\n"
     ]
    }
   ],
   "source": [
    "a = 200\n",
    "b = 33\n",
    "\n",
    "if a > b: print(\"a is greater than b\")"
   ]
  },
  {
   "cell_type": "code",
   "execution_count": null,
   "id": "099a45ef-4e4b-43da-9d4b-c48f7afffcdf",
   "metadata": {},
   "outputs": [],
   "source": [
    "Short Hand If ... Else"
   ]
  },
  {
   "cell_type": "code",
   "execution_count": 9,
   "id": "c9a5e35d-9bd7-4843-876c-7422d2c3ea3b",
   "metadata": {},
   "outputs": [
    {
     "name": "stdout",
     "output_type": "stream",
     "text": [
      "B\n"
     ]
    }
   ],
   "source": [
    "a = 2\n",
    "b = 330\n",
    "print(\"A\") if a > b else print(\"B\")"
   ]
  },
  {
   "cell_type": "code",
   "execution_count": 11,
   "id": "eca24ea4-7488-47b1-9016-a542c1aac612",
   "metadata": {},
   "outputs": [
    {
     "name": "stdout",
     "output_type": "stream",
     "text": [
      "=\n"
     ]
    }
   ],
   "source": [
    "a = 330\n",
    "b = 330\n",
    "print(\"A\") if a > b else print(\"=\") if a == b else print(\"B\")"
   ]
  },
  {
   "cell_type": "code",
   "execution_count": null,
   "id": "d2e0ccf7-e0fa-4ff9-a37d-4a69e8c0dcdb",
   "metadata": {},
   "outputs": [],
   "source": [
    "AND"
   ]
  },
  {
   "cell_type": "code",
   "execution_count": 13,
   "id": "e4ea9450-a3ea-4201-be39-a0cf641b30bd",
   "metadata": {},
   "outputs": [
    {
     "name": "stdout",
     "output_type": "stream",
     "text": [
      "Both conditions are True\n"
     ]
    }
   ],
   "source": [
    "a = 200\n",
    "b = 33\n",
    "c = 500\n",
    "if a > b and c > a:\n",
    "  print(\"Both conditions are True\")"
   ]
  },
  {
   "cell_type": "code",
   "execution_count": null,
   "id": "a6adcb55-4df5-4bf3-9ea9-3658c106c8b6",
   "metadata": {},
   "outputs": [],
   "source": [
    "OR"
   ]
  },
  {
   "cell_type": "code",
   "execution_count": 15,
   "id": "5a16ea9e-1063-4e4f-b8ff-a7bed397c349",
   "metadata": {},
   "outputs": [
    {
     "name": "stdout",
     "output_type": "stream",
     "text": [
      "At least one of the conditions is True\n"
     ]
    }
   ],
   "source": [
    "a = 200\n",
    "b = 33\n",
    "c = 500\n",
    "if a > b or a > c:\n",
    "  print(\"At least one of the conditions is True\")"
   ]
  },
  {
   "cell_type": "code",
   "execution_count": null,
   "id": "eea4d4eb-1b2e-46da-b673-11e1c04367cd",
   "metadata": {},
   "outputs": [],
   "source": [
    "NOT"
   ]
  },
  {
   "cell_type": "code",
   "execution_count": 17,
   "id": "068b8ee8-2d77-4f76-b3c7-73515c06896b",
   "metadata": {},
   "outputs": [
    {
     "name": "stdout",
     "output_type": "stream",
     "text": [
      "a is NOT greater than b\n"
     ]
    }
   ],
   "source": [
    "a = 33\n",
    "b = 200\n",
    "if not a > b:\n",
    "  print(\"a is NOT greater than b\")"
   ]
  },
  {
   "cell_type": "code",
   "execution_count": null,
   "id": "b2d7beda-3d96-402a-bf71-e4ba07d74120",
   "metadata": {},
   "outputs": [],
   "source": [
    "Nested If"
   ]
  },
  {
   "cell_type": "code",
   "execution_count": 19,
   "id": "3ab8273d-14c5-48ee-98a7-fc0ba91f6fa3",
   "metadata": {},
   "outputs": [
    {
     "name": "stdout",
     "output_type": "stream",
     "text": [
      "Above ten,\n",
      "and also above 20!\n"
     ]
    }
   ],
   "source": [
    "x = 41\n",
    "\n",
    "if x > 10:\n",
    "  print(\"Above ten,\")\n",
    "  if x > 20:\n",
    "    print(\"and also above 20!\")\n",
    "  else:\n",
    "    print(\"but not above 20.\")"
   ]
  },
  {
   "cell_type": "code",
   "execution_count": null,
   "id": "d4d43fd4-589c-4bc8-80f7-62b003c240bd",
   "metadata": {},
   "outputs": [],
   "source": [
    "The pass Statement"
   ]
  },
  {
   "cell_type": "code",
   "execution_count": 25,
   "id": "7ba4f23b-8ff7-466d-be98-b8c6d712ec6e",
   "metadata": {},
   "outputs": [],
   "source": [
    "a = 33\n",
    "b = 200\n",
    "\n",
    "if b > a:\n",
    "  pass\n",
    "    # having an empty if statement like this, would raise an error without the pass statement"
   ]
  }
 ],
 "metadata": {
  "kernelspec": {
   "display_name": "Python [conda env:base] *",
   "language": "python",
   "name": "conda-base-py"
  },
  "language_info": {
   "codemirror_mode": {
    "name": "ipython",
    "version": 3
   },
   "file_extension": ".py",
   "mimetype": "text/x-python",
   "name": "python",
   "nbconvert_exporter": "python",
   "pygments_lexer": "ipython3",
   "version": "3.12.7"
  }
 },
 "nbformat": 4,
 "nbformat_minor": 5
}

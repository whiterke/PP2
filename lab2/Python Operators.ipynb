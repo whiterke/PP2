{
 "cells": [
  {
   "cell_type": "code",
   "execution_count": 1,
   "id": "b4115ffa-9cd5-4612-b9e2-a0a21c19d0e9",
   "metadata": {},
   "outputs": [
    {
     "name": "stdout",
     "output_type": "stream",
     "text": [
      "15\n"
     ]
    }
   ],
   "source": [
    "print(10 + 5)"
   ]
  },
  {
   "cell_type": "markdown",
   "id": "3e6845ee-07ee-4518-bd5d-d49f70c2681e",
   "metadata": {},
   "source": [
    "Python Arithmetic Operators"
   ]
  },
  {
   "cell_type": "code",
   "execution_count": 54,
   "id": "e0888d42-a0ae-41b5-a167-ee42cdae26e7",
   "metadata": {},
   "outputs": [
    {
     "name": "stdout",
     "output_type": "stream",
     "text": [
      "8\n",
      "2\n",
      "15\n",
      "1.6666666666666667\n",
      "2\n",
      "1\n",
      "125\n"
     ]
    }
   ],
   "source": [
    "x = 5\n",
    "y = 3\n",
    "\n",
    "print(x + y) #Addition\n",
    "print(x - y) #Subtraction\n",
    "print(x * y) #Multiplication\n",
    "print(x / y) #Division\n",
    "print(x % y) #Modulus\n",
    "print(x // y) \t#Exponentiation\n",
    "print(x ** y) \t#Floor division"
   ]
  },
  {
   "cell_type": "markdown",
   "id": "9fd654e1-8de5-49fc-ad0e-dde7de7303c7",
   "metadata": {},
   "source": [
    "Python Assignment Operators"
   ]
  },
  {
   "cell_type": "code",
   "execution_count": 32,
   "id": "0ac72966-7d91-44e7-88cc-87f3da3fdf1e",
   "metadata": {},
   "outputs": [
    {
     "name": "stdout",
     "output_type": "stream",
     "text": [
      "5\n",
      "8\n",
      "2\n",
      "15\n",
      "1.6666666666666667\n",
      "2\n",
      "125\n",
      "1\n",
      "1\n",
      "7\n",
      "6\n",
      "0\n",
      "40\n",
      "3\n"
     ]
    }
   ],
   "source": [
    "a = 5\n",
    "print(a)\n",
    "b=5\n",
    "b += 3\n",
    "print(b)\n",
    "c=5\n",
    "c-=3\n",
    "print(c)\n",
    "d=5\n",
    "d*=3\n",
    "print(d)\n",
    "e=5\n",
    "e/=3\n",
    "print(e)\n",
    "f=5\n",
    "f%=3\n",
    "print(f)\n",
    "g=5\n",
    "g**=3\n",
    "print(g)\n",
    "h=5\n",
    "h//=3\n",
    "print(h)\n",
    "i=5\n",
    "i&=3\n",
    "print(i)\n",
    "j=5\n",
    "j|=3\n",
    "print(j)\n",
    "k=5\n",
    "k^=3\n",
    "print(k)\n",
    "l=5\n",
    "l>>=3\n",
    "print(l)\n",
    "m=5\n",
    "m<<=3\n",
    "print(m)\n",
    "print(n:=3)"
   ]
  },
  {
   "cell_type": "markdown",
   "id": "a832bc87-16ab-46b2-9643-1cb326a13e9b",
   "metadata": {},
   "source": [
    "Python Comparison Operators"
   ]
  },
  {
   "cell_type": "code",
   "execution_count": 56,
   "id": "b48a0445-a860-41f9-8a17-bfaf4f5f2040",
   "metadata": {},
   "outputs": [
    {
     "name": "stdout",
     "output_type": "stream",
     "text": [
      "False\n",
      "True\n",
      "True\n",
      "False\n",
      "False\n",
      "True\n"
     ]
    }
   ],
   "source": [
    "x = 5\n",
    "y = 3\n",
    "print(x == y) #Equal\n",
    "print(x != y) #Not equal\n",
    "print(x > y) #Greater than\n",
    "print(x < y) #Less than\n",
    "print(x <= y) #Greater than or equal to\n",
    "print(x >= y) #Less than or equal to"
   ]
  },
  {
   "cell_type": "markdown",
   "id": "ecf4983a-fc03-487f-a62d-3c0055d32197",
   "metadata": {},
   "source": [
    "Python Logical Operators"
   ]
  },
  {
   "cell_type": "code",
   "execution_count": 58,
   "id": "fdeddf32-90cd-46ce-b4fb-6860ff1e070c",
   "metadata": {},
   "outputs": [
    {
     "name": "stdout",
     "output_type": "stream",
     "text": [
      "True\n",
      "True\n",
      "False\n"
     ]
    }
   ],
   "source": [
    "x = 5\n",
    "print(x > 3 and x < 10) #\tReturns True if both statements are true\n",
    "x = 5\n",
    "print(x > 3 or x < 4) #\tReturns True if one of the statements is true\n",
    "x = 5\n",
    "print(not(x > 3 and x < 10)) #Reverse the result, returns False if the result is true"
   ]
  },
  {
   "cell_type": "markdown",
   "id": "99fc382d-9858-4ed1-8a73-305269d9927b",
   "metadata": {},
   "source": [
    "Python Identity Operators"
   ]
  },
  {
   "cell_type": "code",
   "execution_count": 37,
   "id": "4df8f47e-1f67-488c-994d-a7a95281ed7f",
   "metadata": {},
   "outputs": [
    {
     "name": "stdout",
     "output_type": "stream",
     "text": [
      "True\n",
      "False\n",
      "True\n",
      "False\n",
      "True\n",
      "False\n"
     ]
    }
   ],
   "source": [
    "x = [\"apple\", \"banana\"]\n",
    "y = [\"apple\", \"banana\"]\n",
    "z = x\n",
    "print(x is z)\n",
    "# returns True because z is the same object as x\n",
    "print(x is y)\n",
    "# returns False because x is not the same object as y, even if they have the same content\n",
    "print(x == y)\n",
    "# to demonstrate the difference betweeen \"is\" and \"==\": this comparison returns True because x is equal to y\n",
    "x = [\"apple\", \"banana\"]\n",
    "y = [\"apple\", \"banana\"]\n",
    "z = x\n",
    "print(x is not z)\n",
    "# returns False because z is the same object as x\n",
    "print(x is not y)\n",
    "# returns True because x is not the same object as y, even if they have the same content\n",
    "print(x != y)\n",
    "# to demonstrate the difference betweeen \"is not\" and \"!=\": this comparison returns False because x is equal to y"
   ]
  },
  {
   "cell_type": "markdown",
   "id": "e14243b3-1680-4c2e-9d6e-864c41473b06",
   "metadata": {},
   "source": [
    "Python Membership Operators"
   ]
  },
  {
   "cell_type": "code",
   "execution_count": 60,
   "id": "6fce14ed-5e3d-4f30-be0e-320e19cde77b",
   "metadata": {},
   "outputs": [
    {
     "name": "stdout",
     "output_type": "stream",
     "text": [
      "True\n",
      "True\n"
     ]
    }
   ],
   "source": [
    "x = [\"apple\", \"banana\"]\n",
    "print(\"banana\" in x) #Returns True if a sequence with the specified value is present in the object\n",
    "x = [\"apple\", \"banana\"]\n",
    "print(\"pineapple\" not in x) #Returns True if a sequence with the specified value is not present in the object"
   ]
  },
  {
   "cell_type": "markdown",
   "id": "bdcd4f8c-b347-43ea-9710-d99c2ee7abb2",
   "metadata": {},
   "source": [
    "Python Bitwise Operators"
   ]
  },
  {
   "cell_type": "code",
   "execution_count": 62,
   "id": "421b34ee-8d62-40cc-bdca-f8994bee7e8e",
   "metadata": {},
   "outputs": [
    {
     "name": "stdout",
     "output_type": "stream",
     "text": [
      "2\n",
      "7\n",
      "5\n",
      "-4\n",
      "12\n",
      "2\n"
     ]
    },
    {
     "data": {
      "text/plain": [
       "'\\nDecimal numbers and their binary values:\\n0 = 0000000000000000\\n1 = 0000000000000001\\n2 = 0000000000000010\\n3 = 0000000000000011\\n4 = 0000000000000100\\n5 = 0000000000000101\\n6 = 0000000000000110\\n7 = 0000000000000111\\n8 = 0000000000001000\\n9 = 0000000000001001\\n10 = 0000000000001010\\n11 = 0000000000001011\\n12 = 0000000000001100\\n'"
      ]
     },
     "execution_count": 62,
     "metadata": {},
     "output_type": "execute_result"
    }
   ],
   "source": [
    "print(6 & 3) #AND\n",
    "print(6 | 3) #OR\n",
    "print(6 ^ 3) #XOR\n",
    "print(~3) #NOT\n",
    "print(3 << 2) #Zero fill left shift\t\n",
    "print(8 >> 2) #Signed right shift\t\n",
    "\"\"\"\n",
    "Decimal numbers and their binary values:\n",
    "0 = 0000000000000000\n",
    "1 = 0000000000000001\n",
    "2 = 0000000000000010\n",
    "3 = 0000000000000011\n",
    "4 = 0000000000000100\n",
    "5 = 0000000000000101\n",
    "6 = 0000000000000110\n",
    "7 = 0000000000000111\n",
    "8 = 0000000000001000\n",
    "9 = 0000000000001001\n",
    "10 = 0000000000001010\n",
    "11 = 0000000000001011\n",
    "12 = 0000000000001100\n",
    "\"\"\""
   ]
  },
  {
   "cell_type": "markdown",
   "id": "5dce0c84-0a86-461a-aa81-e2ea52780e58",
   "metadata": {},
   "source": [
    "Operator Precedence"
   ]
  },
  {
   "cell_type": "code",
   "execution_count": 64,
   "id": "9785d8ce-f2b7-407b-982f-f247456ddb3d",
   "metadata": {},
   "outputs": [
    {
     "name": "stdout",
     "output_type": "stream",
     "text": [
      "0\n",
      "73\n",
      "96\n",
      "115\n",
      "85\n",
      "2\n",
      "2\n",
      "5\n",
      "7\n",
      "True\n",
      "False\n",
      "1\n",
      "4\n"
     ]
    }
   ],
   "source": [
    "print((6 + 3) - (6 + 3)) #\tParentheses\n",
    "print(100 - 3 ** 3) #Exponentiation\n",
    "print(100 + ~3) #Unary plus, unary minus, and bitwise NOT\n",
    "print(100 + 5 * 3) #Multiplication, division, floor division, and modulus\n",
    "print(100 - 5 * 3) #Addition and subtraction\n",
    "print(8 >> 4 - 2) #Bitwise left and right shifts\n",
    "print(6 & 2 + 1) #Bitwise AND\n",
    "print(6 ^ 2 + 1) #Bitwise XOR\n",
    "print(6 | 2 + 1) #Bitwise OR\n",
    "print(5 == 4 + 1) #Comparisons, identity, and membership operators\n",
    "print(not 5 == 5) #Logical NOT\n",
    "print(1 or 2 and 3) #AND\n",
    "print(4 or 5 + 10 or 8) #OR"
   ]
  }
 ],
 "metadata": {
  "kernelspec": {
   "display_name": "Python [conda env:base] *",
   "language": "python",
   "name": "conda-base-py"
  },
  "language_info": {
   "codemirror_mode": {
    "name": "ipython",
    "version": 3
   },
   "file_extension": ".py",
   "mimetype": "text/x-python",
   "name": "python",
   "nbconvert_exporter": "python",
   "pygments_lexer": "ipython3",
   "version": "3.12.7"
  }
 },
 "nbformat": 4,
 "nbformat_minor": 5
}

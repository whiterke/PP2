{
 "cells": [
  {
   "cell_type": "code",
   "execution_count": 1,
   "id": "9fd75ccb-e3a2-41eb-85b7-bc59e0cad4ef",
   "metadata": {},
   "outputs": [
    {
     "name": "stdout",
     "output_type": "stream",
     "text": [
      "{'banana', 'cherry', 'apple'}\n"
     ]
    }
   ],
   "source": [
    "thisset = {\"apple\", \"banana\", \"cherry\"}\n",
    "print(thisset)"
   ]
  },
  {
   "cell_type": "markdown",
   "id": "8176479a-1323-432c-b1f3-d1f840e31197",
   "metadata": {},
   "source": [
    "Duplicates Not Allowed"
   ]
  },
  {
   "cell_type": "code",
   "execution_count": 7,
   "id": "09dad482-2bc3-46f6-b344-adb049d50a08",
   "metadata": {},
   "outputs": [
    {
     "name": "stdout",
     "output_type": "stream",
     "text": [
      "{'banana', 'cherry', 'apple'}\n"
     ]
    }
   ],
   "source": [
    "thisset = {\"apple\", \"banana\", \"cherry\", \"apple\"}\n",
    "print(thisset)"
   ]
  },
  {
   "cell_type": "code",
   "execution_count": 9,
   "id": "4cbcbbcd-b39c-41d9-bc37-d1caf3fedbb0",
   "metadata": {},
   "outputs": [
    {
     "name": "stdout",
     "output_type": "stream",
     "text": [
      "{True, 2, 'banana', 'cherry', 'apple'}\n"
     ]
    }
   ],
   "source": [
    "thisset = {\"apple\", \"banana\", \"cherry\", True, 1, 2}\n",
    "\n",
    "print(thisset)"
   ]
  },
  {
   "cell_type": "code",
   "execution_count": 11,
   "id": "8ef31746-d765-4c51-a95c-0c4f70f90952",
   "metadata": {},
   "outputs": [
    {
     "name": "stdout",
     "output_type": "stream",
     "text": [
      "{False, True, 'banana', 'cherry', 'apple'}\n"
     ]
    }
   ],
   "source": [
    "thisset = {\"apple\", \"banana\", \"cherry\", False, True, 0}\n",
    "\n",
    "print(thisset)"
   ]
  },
  {
   "cell_type": "markdown",
   "id": "e9af3bee-538c-4ac3-a112-618cc70c2cdb",
   "metadata": {},
   "source": [
    "Get the Length of a Set"
   ]
  },
  {
   "cell_type": "code",
   "execution_count": 17,
   "id": "fb946350-cb58-42a7-aade-a219cdba5570",
   "metadata": {},
   "outputs": [
    {
     "name": "stdout",
     "output_type": "stream",
     "text": [
      "3\n"
     ]
    }
   ],
   "source": [
    "thisset = {\"apple\", \"banana\", \"cherry\"}\n",
    "\n",
    "print(len(thisset))"
   ]
  },
  {
   "cell_type": "markdown",
   "id": "378d29f1-11bf-43ea-92cf-1d25e1048353",
   "metadata": {},
   "source": [
    "Set Items - Data Types"
   ]
  },
  {
   "cell_type": "code",
   "execution_count": 19,
   "id": "6a5d151d-cebc-4fbf-a06b-2b25a7871821",
   "metadata": {},
   "outputs": [
    {
     "name": "stdout",
     "output_type": "stream",
     "text": [
      "{'banana', 'cherry', 'apple'}\n",
      "{1, 3, 5, 7, 9}\n",
      "{False, True}\n"
     ]
    }
   ],
   "source": [
    "set1 = {\"apple\", \"banana\", \"cherry\"}\n",
    "set2 = {1, 5, 7, 9, 3}\n",
    "set3 = {True, False, False}\n",
    "\n",
    "print(set1)\n",
    "print(set2)\n",
    "print(set3)"
   ]
  },
  {
   "cell_type": "code",
   "execution_count": 21,
   "id": "1889e416-9a7a-4a68-a5f9-d9e4a6a62eb8",
   "metadata": {},
   "outputs": [
    {
     "name": "stdout",
     "output_type": "stream",
     "text": [
      "{True, 34, 'male', 40, 'abc'}\n"
     ]
    }
   ],
   "source": [
    "set1 = {\"abc\", 34, True, 40, \"male\"}\n",
    "\n",
    "print(set1)"
   ]
  },
  {
   "cell_type": "markdown",
   "id": "3a104602-5a9b-4723-89c9-0918c4ecd6d0",
   "metadata": {},
   "source": [
    "type()"
   ]
  },
  {
   "cell_type": "code",
   "execution_count": 28,
   "id": "4e1f8dcb-b507-4d2c-a0ff-37a6c4e42c9f",
   "metadata": {},
   "outputs": [
    {
     "name": "stdout",
     "output_type": "stream",
     "text": [
      "<class 'set'>\n"
     ]
    }
   ],
   "source": [
    "myset = {\"apple\", \"banana\", \"cherry\"}\n",
    "print(type(myset))"
   ]
  },
  {
   "cell_type": "markdown",
   "id": "ff885408-95bb-4d3a-9ef6-fb3ebd7a4ac3",
   "metadata": {},
   "source": [
    "The set() Constructor"
   ]
  },
  {
   "cell_type": "code",
   "execution_count": 30,
   "id": "7bfbe950-ad4b-4366-a1ac-6fa81e26cc1a",
   "metadata": {},
   "outputs": [
    {
     "name": "stdout",
     "output_type": "stream",
     "text": [
      "{'banana', 'cherry', 'apple'}\n"
     ]
    }
   ],
   "source": [
    "thisset = set((\"apple\", \"banana\", \"cherry\")) # note the double round-brackets\n",
    "print(thisset)"
   ]
  },
  {
   "cell_type": "markdown",
   "id": "2ca0ffd4-df93-484c-89b9-c3b160a4f3cf",
   "metadata": {},
   "source": [
    "Access Items"
   ]
  },
  {
   "cell_type": "code",
   "execution_count": 32,
   "id": "74ef1ace-8e06-4a7e-aa60-9fc1c30088e8",
   "metadata": {},
   "outputs": [
    {
     "name": "stdout",
     "output_type": "stream",
     "text": [
      "banana\n",
      "cherry\n",
      "apple\n"
     ]
    }
   ],
   "source": [
    "thisset = {\"apple\", \"banana\", \"cherry\"}\n",
    "\n",
    "for x in thisset:\n",
    "  print(x)"
   ]
  },
  {
   "cell_type": "code",
   "execution_count": 34,
   "id": "bbcf1573-d864-4e26-b7ff-cfb7bbd7ac63",
   "metadata": {},
   "outputs": [
    {
     "name": "stdout",
     "output_type": "stream",
     "text": [
      "True\n"
     ]
    }
   ],
   "source": [
    "thisset = {\"apple\", \"banana\", \"cherry\"}\n",
    "\n",
    "print(\"banana\" in thisset)"
   ]
  },
  {
   "cell_type": "code",
   "execution_count": 36,
   "id": "63c88f9c-b1be-4379-863c-1b5fab8f5fd3",
   "metadata": {},
   "outputs": [
    {
     "name": "stdout",
     "output_type": "stream",
     "text": [
      "False\n"
     ]
    }
   ],
   "source": [
    "thisset = {\"apple\", \"banana\", \"cherry\"}\n",
    "\n",
    "print(\"banana\" not in thisset)"
   ]
  },
  {
   "cell_type": "markdown",
   "id": "11e99ff7-3b0b-45d9-abbd-0278c9a5505c",
   "metadata": {},
   "source": [
    "Add Items"
   ]
  },
  {
   "cell_type": "code",
   "execution_count": 50,
   "id": "9c0ea93d-d08e-48fa-b8f1-56be2d6a6d8b",
   "metadata": {},
   "outputs": [
    {
     "name": "stdout",
     "output_type": "stream",
     "text": [
      "{'banana', 'cherry', 'orange', 'apple'}\n"
     ]
    }
   ],
   "source": [
    "thisset = {\"apple\", \"banana\", \"cherry\"}\n",
    "\n",
    "thisset.add(\"orange\")\n",
    "\n",
    "print(thisset)"
   ]
  },
  {
   "cell_type": "markdown",
   "id": "ae86a42a-af54-4e18-ab97-a477dadab98b",
   "metadata": {},
   "source": [
    "Add sets"
   ]
  },
  {
   "cell_type": "code",
   "execution_count": 52,
   "id": "965fcf64-58dc-4583-a1e0-a7fd463023a6",
   "metadata": {},
   "outputs": [
    {
     "name": "stdout",
     "output_type": "stream",
     "text": [
      "{'papaya', 'banana', 'mango', 'cherry', 'pineapple', 'apple'}\n"
     ]
    }
   ],
   "source": [
    "thisset = {\"apple\", \"banana\", \"cherry\"}\n",
    "tropical = {\"pineapple\", \"mango\", \"papaya\"}\n",
    "\n",
    "thisset.update(tropical)\n",
    "\n",
    "print(thisset)"
   ]
  },
  {
   "cell_type": "markdown",
   "id": "cc16de3a-3c50-48e0-954e-5936585e62a0",
   "metadata": {},
   "source": [
    "Add Any Iterable"
   ]
  },
  {
   "cell_type": "code",
   "execution_count": 54,
   "id": "68a2ac7e-82b9-437e-856f-18e2157566ec",
   "metadata": {},
   "outputs": [
    {
     "name": "stdout",
     "output_type": "stream",
     "text": [
      "{'kiwi', 'banana', 'cherry', 'orange', 'apple'}\n"
     ]
    }
   ],
   "source": [
    "thisset = {\"apple\", \"banana\", \"cherry\"}\n",
    "mylist = [\"kiwi\", \"orange\"]\n",
    "thisset.update(mylist)\n",
    "print(thisset)"
   ]
  },
  {
   "cell_type": "markdown",
   "id": "f23ceb23-bf68-41b4-8068-c6be19107a59",
   "metadata": {},
   "source": [
    "Remove Item"
   ]
  },
  {
   "cell_type": "code",
   "execution_count": 56,
   "id": "50c50700-eb76-450d-9415-7a73e00c9f50",
   "metadata": {},
   "outputs": [
    {
     "name": "stdout",
     "output_type": "stream",
     "text": [
      "{'cherry', 'apple'}\n"
     ]
    }
   ],
   "source": [
    "thisset = {\"apple\", \"banana\", \"cherry\"}\n",
    "\n",
    "thisset.remove(\"banana\")\n",
    "\n",
    "print(thisset)"
   ]
  },
  {
   "cell_type": "code",
   "execution_count": 58,
   "id": "f1d0f4d2-b41e-4d2e-8616-c36a83a3ff38",
   "metadata": {},
   "outputs": [
    {
     "name": "stdout",
     "output_type": "stream",
     "text": [
      "{'cherry', 'apple'}\n"
     ]
    }
   ],
   "source": [
    "thisset = {\"apple\", \"banana\", \"cherry\"}\n",
    "\n",
    "thisset.discard(\"banana\")\n",
    "\n",
    "print(thisset)"
   ]
  },
  {
   "cell_type": "code",
   "execution_count": 60,
   "id": "c7096c28-7db7-4f3d-9127-75d6fec4ffe1",
   "metadata": {},
   "outputs": [
    {
     "name": "stdout",
     "output_type": "stream",
     "text": [
      "banana\n",
      "{'cherry', 'apple'}\n"
     ]
    }
   ],
   "source": [
    "thisset = {\"apple\", \"banana\", \"cherry\"}\n",
    "\n",
    "x = thisset.pop()\n",
    "\n",
    "print(x)\n",
    "\n",
    "print(thisset)"
   ]
  },
  {
   "cell_type": "code",
   "execution_count": 62,
   "id": "1b8b848b-0ca0-4db3-8167-3a10b0ecd7e7",
   "metadata": {},
   "outputs": [
    {
     "name": "stdout",
     "output_type": "stream",
     "text": [
      "set()\n"
     ]
    }
   ],
   "source": [
    "thisset = {\"apple\", \"banana\", \"cherry\"}\n",
    "\n",
    "thisset.clear()\n",
    "\n",
    "print(thisset)"
   ]
  },
  {
   "cell_type": "code",
   "execution_count": 64,
   "id": "cd59c574-a269-4b70-a179-76a70648d780",
   "metadata": {},
   "outputs": [
    {
     "ename": "NameError",
     "evalue": "name 'thisset' is not defined",
     "output_type": "error",
     "traceback": [
      "\u001b[1;31m---------------------------------------------------------------------------\u001b[0m",
      "\u001b[1;31mNameError\u001b[0m                                 Traceback (most recent call last)",
      "Cell \u001b[1;32mIn[64], line 5\u001b[0m\n\u001b[0;32m      1\u001b[0m thisset \u001b[38;5;241m=\u001b[39m {\u001b[38;5;124m\"\u001b[39m\u001b[38;5;124mapple\u001b[39m\u001b[38;5;124m\"\u001b[39m, \u001b[38;5;124m\"\u001b[39m\u001b[38;5;124mbanana\u001b[39m\u001b[38;5;124m\"\u001b[39m, \u001b[38;5;124m\"\u001b[39m\u001b[38;5;124mcherry\u001b[39m\u001b[38;5;124m\"\u001b[39m}\n\u001b[0;32m      3\u001b[0m \u001b[38;5;28;01mdel\u001b[39;00m thisset\n\u001b[1;32m----> 5\u001b[0m \u001b[38;5;28mprint\u001b[39m(thisset)\n",
      "\u001b[1;31mNameError\u001b[0m: name 'thisset' is not defined"
     ]
    }
   ],
   "source": [
    "thisset = {\"apple\", \"banana\", \"cherry\"}\n",
    "\n",
    "del thisset\n",
    "\n",
    "print(thisset)"
   ]
  },
  {
   "cell_type": "markdown",
   "id": "45d712a3-7b62-4c32-8d86-1734253eba8c",
   "metadata": {},
   "source": [
    "Loop Items"
   ]
  },
  {
   "cell_type": "code",
   "execution_count": 71,
   "id": "21d7faab-8e38-49e4-8054-103dd767817b",
   "metadata": {},
   "outputs": [
    {
     "name": "stdout",
     "output_type": "stream",
     "text": [
      "banana\n",
      "cherry\n",
      "apple\n"
     ]
    }
   ],
   "source": [
    "thisset = {\"apple\", \"banana\", \"cherry\"}\n",
    "\n",
    "for x in thisset:\n",
    "  print(x)"
   ]
  },
  {
   "cell_type": "markdown",
   "id": "07cc0475-2e53-466b-bac0-b47cf9e8c3ff",
   "metadata": {},
   "source": [
    "Join Sets\n",
    "There are several ways to join two or more sets in Python.\n",
    "\n",
    "The union() and update() methods joins all items from both sets.\n",
    "\n",
    "The intersection() method keeps ONLY the duplicates.\n",
    "\n",
    "The difference() method keeps the items from the first set that are not in the other set(s).\n",
    "\n",
    "The symmetric_difference() method keeps all items EXCEPT the duplicates."
   ]
  },
  {
   "cell_type": "markdown",
   "id": "d907d3e1-218b-432e-b1e9-c7103bb99084",
   "metadata": {},
   "source": [
    "Union"
   ]
  },
  {
   "cell_type": "code",
   "execution_count": 73,
   "id": "4c4c3ddc-20ab-4543-a4ea-b92aa340fb22",
   "metadata": {},
   "outputs": [
    {
     "name": "stdout",
     "output_type": "stream",
     "text": [
      "{1, 2, 3, 'c', 'b', 'a'}\n"
     ]
    }
   ],
   "source": [
    "set1 = {\"a\", \"b\", \"c\"}\n",
    "set2 = {1, 2, 3}\n",
    "\n",
    "set3 = set1.union(set2)\n",
    "print(set3)"
   ]
  },
  {
   "cell_type": "code",
   "execution_count": 75,
   "id": "848834b4-b38d-4a0f-a156-5ee4b381a850",
   "metadata": {},
   "outputs": [
    {
     "name": "stdout",
     "output_type": "stream",
     "text": [
      "{1, 2, 3, 'c', 'b', 'a'}\n"
     ]
    }
   ],
   "source": [
    "set1 = {\"a\", \"b\", \"c\"}\n",
    "set2 = {1, 2, 3}\n",
    "\n",
    "set3 = set1 | set2\n",
    "print(set3)"
   ]
  },
  {
   "cell_type": "markdown",
   "id": "297198be-8b05-4785-a4ff-41935c802631",
   "metadata": {},
   "source": [
    "Join Multiple Sets"
   ]
  },
  {
   "cell_type": "code",
   "execution_count": 81,
   "id": "f33814d3-af1f-472f-bb64-406663d1e2aa",
   "metadata": {},
   "outputs": [
    {
     "name": "stdout",
     "output_type": "stream",
     "text": [
      "{1, 2, 3, 'John', 'bananas', 'b', 'c', 'a', 'cherry', 'Elena', 'apple'}\n"
     ]
    }
   ],
   "source": [
    "set1 = {\"a\", \"b\", \"c\"}\n",
    "set2 = {1, 2, 3}\n",
    "set3 = {\"John\", \"Elena\"}\n",
    "set4 = {\"apple\", \"bananas\", \"cherry\"}\n",
    "\n",
    "myset = set1.union(set2, set3, set4)\n",
    "print(myset)"
   ]
  },
  {
   "cell_type": "code",
   "execution_count": 83,
   "id": "8dfe83c1-1eaa-47a1-95f4-d3f25c3ca10a",
   "metadata": {},
   "outputs": [
    {
     "name": "stdout",
     "output_type": "stream",
     "text": [
      "{1, 2, 3, 'John', 'bananas', 'b', 'c', 'a', 'cherry', 'Elena', 'apple'}\n"
     ]
    }
   ],
   "source": [
    "set1 = {\"a\", \"b\", \"c\"}\n",
    "set2 = {1, 2, 3}\n",
    "set3 = {\"John\", \"Elena\"}\n",
    "set4 = {\"apple\", \"bananas\", \"cherry\"}\n",
    "\n",
    "myset = set1 | set2 | set3 |set4\n",
    "print(myset)"
   ]
  },
  {
   "cell_type": "markdown",
   "id": "38f5a974-88a1-4f2e-886c-f09a639f57bc",
   "metadata": {},
   "source": [
    "Join a Set and a Tuple`"
   ]
  },
  {
   "cell_type": "code",
   "execution_count": 85,
   "id": "6e292888-3fd2-4f13-b3be-c38bba4e8107",
   "metadata": {},
   "outputs": [
    {
     "name": "stdout",
     "output_type": "stream",
     "text": [
      "{1, 2, 3, 'b', 'a', 'c'}\n"
     ]
    }
   ],
   "source": [
    "x = {\"a\", \"b\", \"c\"}\n",
    "y = (1, 2, 3)\n",
    "\n",
    "z = x.union(y)\n",
    "print(z)"
   ]
  },
  {
   "cell_type": "markdown",
   "id": "21da7bbb-8b3b-48d2-9a57-4920bc29cbd3",
   "metadata": {},
   "source": [
    "Update"
   ]
  },
  {
   "cell_type": "code",
   "execution_count": 93,
   "id": "bdfd5a3b-b9bf-4e6b-ab58-fac6e681f017",
   "metadata": {},
   "outputs": [
    {
     "name": "stdout",
     "output_type": "stream",
     "text": [
      "{1, 2, 3, 'c', 'b', 'a'}\n"
     ]
    }
   ],
   "source": [
    "set1 = {\"a\", \"b\" , \"c\"}\n",
    "set2 = {1, 2, 3}\n",
    "\n",
    "set1.update(set2)\n",
    "print(set1)"
   ]
  },
  {
   "cell_type": "markdown",
   "id": "6afcdc52-aa17-438b-933c-0d4fe983c22d",
   "metadata": {},
   "source": [
    "Intersection"
   ]
  },
  {
   "cell_type": "code",
   "execution_count": 95,
   "id": "4ae6daf2-07d0-4c8d-88c7-0c52bd4bac0f",
   "metadata": {},
   "outputs": [
    {
     "name": "stdout",
     "output_type": "stream",
     "text": [
      "{'apple'}\n"
     ]
    }
   ],
   "source": [
    "set1 = {\"apple\", \"banana\", \"cherry\"}\n",
    "set2 = {\"google\", \"microsoft\", \"apple\"}\n",
    "\n",
    "set3 = set1.intersection(set2)\n",
    "print(set3)\n"
   ]
  },
  {
   "cell_type": "code",
   "execution_count": 97,
   "id": "66f0fdb2-5b0d-4ff0-b8b2-7dd2802ae9ee",
   "metadata": {},
   "outputs": [
    {
     "name": "stdout",
     "output_type": "stream",
     "text": [
      "{'apple'}\n"
     ]
    }
   ],
   "source": [
    "set1 = {\"apple\", \"banana\", \"cherry\"}\n",
    "set2 = {\"google\", \"microsoft\", \"apple\"}\n",
    "\n",
    "set3 = set1 & set2\n",
    "print(set3)"
   ]
  },
  {
   "cell_type": "code",
   "execution_count": 99,
   "id": "eefd7963-b365-41d8-b59b-19bd1115f58d",
   "metadata": {},
   "outputs": [
    {
     "name": "stdout",
     "output_type": "stream",
     "text": [
      "{'apple'}\n"
     ]
    }
   ],
   "source": [
    "set1 = {\"apple\", \"banana\", \"cherry\"}\n",
    "set2 = {\"google\", \"microsoft\", \"apple\"}\n",
    "\n",
    "set1.intersection_update(set2)\n",
    "\n",
    "print(set1)"
   ]
  },
  {
   "cell_type": "code",
   "execution_count": 101,
   "id": "f1e08872-a069-4f6a-bafe-3318a8eb7054",
   "metadata": {},
   "outputs": [
    {
     "name": "stdout",
     "output_type": "stream",
     "text": [
      "{False, 1, 'apple'}\n"
     ]
    }
   ],
   "source": [
    "set1 = {\"apple\", 1,  \"banana\", 0, \"cherry\"}\n",
    "set2 = {False, \"google\", 1, \"apple\", 2, True}\n",
    "\n",
    "set3 = set1.intersection(set2)\n",
    "\n",
    "print(set3)"
   ]
  },
  {
   "cell_type": "markdown",
   "id": "693cd495-3fbc-4690-8ee8-feb03b2af649",
   "metadata": {},
   "source": [
    "Difference"
   ]
  },
  {
   "cell_type": "code",
   "execution_count": 107,
   "id": "e7299c42-5445-4752-bcab-962a4464e2b0",
   "metadata": {},
   "outputs": [
    {
     "name": "stdout",
     "output_type": "stream",
     "text": [
      "{'banana', 'cherry'}\n"
     ]
    }
   ],
   "source": [
    "set1 = {\"apple\", \"banana\", \"cherry\"}\n",
    "set2 = {\"google\", \"microsoft\", \"apple\"}\n",
    "\n",
    "set3 = set1.difference(set2)\n",
    "\n",
    "print(set3)"
   ]
  },
  {
   "cell_type": "code",
   "execution_count": 109,
   "id": "4b506869-c1af-4c7e-9e1e-b841ff77094e",
   "metadata": {},
   "outputs": [
    {
     "name": "stdout",
     "output_type": "stream",
     "text": [
      "{'banana', 'cherry'}\n"
     ]
    }
   ],
   "source": [
    "set1 = {\"apple\", \"banana\", \"cherry\"}\n",
    "set2 = {\"google\", \"microsoft\", \"apple\"}\n",
    "\n",
    "set3 = set1 - set2\n",
    "print(set3)"
   ]
  },
  {
   "cell_type": "code",
   "execution_count": 111,
   "id": "26f43359-872e-45cf-830b-cfcac5719587",
   "metadata": {},
   "outputs": [
    {
     "name": "stdout",
     "output_type": "stream",
     "text": [
      "{'banana', 'cherry'}\n"
     ]
    }
   ],
   "source": [
    "set1 = {\"apple\", \"banana\", \"cherry\"}\n",
    "set2 = {\"google\", \"microsoft\", \"apple\"}\n",
    "\n",
    "set1.difference_update(set2)\n",
    "\n",
    "print(set1)\n"
   ]
  },
  {
   "cell_type": "markdown",
   "id": "685874a1-f0dc-4451-af1b-d5350405fde8",
   "metadata": {},
   "source": [
    "Symmetric Differences"
   ]
  },
  {
   "cell_type": "code",
   "execution_count": 117,
   "id": "a690c893-cbfa-4769-abc4-68e157e1af14",
   "metadata": {},
   "outputs": [
    {
     "name": "stdout",
     "output_type": "stream",
     "text": [
      "{'banana', 'cherry', 'microsoft', 'google'}\n"
     ]
    }
   ],
   "source": [
    "set1 = {\"apple\", \"banana\", \"cherry\"}\n",
    "set2 = {\"google\", \"microsoft\", \"apple\"}\n",
    "\n",
    "set3 = set1.symmetric_difference(set2)\n",
    "\n",
    "print(set3)"
   ]
  },
  {
   "cell_type": "code",
   "execution_count": 119,
   "id": "dc6da34d-751c-4878-8824-c8a76f080634",
   "metadata": {},
   "outputs": [
    {
     "name": "stdout",
     "output_type": "stream",
     "text": [
      "{'banana', 'cherry', 'microsoft', 'google'}\n"
     ]
    }
   ],
   "source": [
    "set1 = {\"apple\", \"banana\", \"cherry\"}\n",
    "set2 = {\"google\", \"microsoft\", \"apple\"}\n",
    "\n",
    "set3 = set1 ^ set2\n",
    "print(set3)"
   ]
  },
  {
   "cell_type": "code",
   "execution_count": 121,
   "id": "a589027f-4e5b-4fa1-ac9f-aa87e6d4ca75",
   "metadata": {},
   "outputs": [
    {
     "name": "stdout",
     "output_type": "stream",
     "text": [
      "{'banana', 'cherry', 'microsoft', 'google'}\n"
     ]
    }
   ],
   "source": [
    "set1 = {\"apple\", \"banana\", \"cherry\"}\n",
    "set2 = {\"google\", \"microsoft\", \"apple\"}\n",
    "\n",
    "set1.symmetric_difference_update(set2)\n",
    "\n",
    "print(set1)"
   ]
  },
  {
   "cell_type": "code",
   "execution_count": null,
   "id": "5f29c985-2aed-41ce-a960-93d5faafd8a1",
   "metadata": {},
   "outputs": [],
   "source": [
    "add()\t \t#Adds an element to the set\n",
    "clear()\t \t#Removes all the elements from the set\n",
    "copy()\t \t#Returns a copy of the set\n",
    "difference()\t-\t#Returns a set containing the difference between two or more sets\n",
    "difference_update()\t-=\t#Removes the items in this set that are also included in another, specified set\n",
    "discard()\t \t#Remove the specified item\n",
    "intersection()\t&\t#Returns a set, that is the intersection of two other sets\n",
    "intersection_update()\t&=\t#Removes the items in this set that are not present in other, specified set(s)\n",
    "isdisjoint()\t \t#Returns whether two sets have a intersection or not\n",
    "issubset()\t<=\t#Returns whether another set contains this set or not\n",
    " \t<\t#Returns whether all items in this set is present in other, specified set(s)\n",
    "issuperset()\t>=\t#Returns whether this set contains another set or not\n",
    " \t>\t#Returns whether all items in other, specified set(s) is present in this set\n",
    "pop()\t \t#Removes an element from the set\n",
    "remove()\t \t#Removes the specified element\n",
    "symmetric_difference()\t^\t#Returns a set with the symmetric differences of two sets\n",
    "symmetric_difference_update()\t^=\t#Inserts the symmetric differences from this set and another\n",
    "union()\t|\t#Return a set containing the union of sets\n",
    "update()\t|=\t#Update the set with the union of this set and others"
   ]
  }
 ],
 "metadata": {
  "kernelspec": {
   "display_name": "Python [conda env:base] *",
   "language": "python",
   "name": "conda-base-py"
  },
  "language_info": {
   "codemirror_mode": {
    "name": "ipython",
    "version": 3
   },
   "file_extension": ".py",
   "mimetype": "text/x-python",
   "name": "python",
   "nbconvert_exporter": "python",
   "pygments_lexer": "ipython3",
   "version": "3.12.7"
  }
 },
 "nbformat": 4,
 "nbformat_minor": 5
}

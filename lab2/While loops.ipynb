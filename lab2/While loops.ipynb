{
 "cells": [
  {
   "cell_type": "markdown",
   "id": "0d7018a1-7adf-4b89-8e50-c6cd81a04588",
   "metadata": {},
   "source": [
    "The while Loop"
   ]
  },
  {
   "cell_type": "code",
   "execution_count": 6,
   "id": "8d8c0ae8-ec82-458c-89f6-30cd78dff3a4",
   "metadata": {},
   "outputs": [
    {
     "name": "stdout",
     "output_type": "stream",
     "text": [
      "1\n",
      "2\n",
      "3\n",
      "4\n",
      "5\n"
     ]
    }
   ],
   "source": [
    "i = 1\n",
    "while i < 6:\n",
    "  print(i)\n",
    "  i += 1"
   ]
  },
  {
   "cell_type": "markdown",
   "id": "8e76f0b2-f213-42e2-8790-7ab1bca099c2",
   "metadata": {},
   "source": [
    "The break Statement"
   ]
  },
  {
   "cell_type": "code",
   "execution_count": 8,
   "id": "9b0fa286-365e-4bb9-913d-11c6860d116d",
   "metadata": {},
   "outputs": [
    {
     "name": "stdout",
     "output_type": "stream",
     "text": [
      "1\n",
      "2\n",
      "3\n"
     ]
    }
   ],
   "source": [
    "i = 1\n",
    "while i < 6:\n",
    "  print(i)\n",
    "  if i == 3:\n",
    "    break\n",
    "  i += 1"
   ]
  },
  {
   "cell_type": "markdown",
   "id": "639b3116-03bf-4db9-872c-12f1462a5617",
   "metadata": {},
   "source": [
    "The continue Statement"
   ]
  },
  {
   "cell_type": "code",
   "execution_count": 10,
   "id": "83d467b1-1b24-496c-b733-6d35f712593d",
   "metadata": {},
   "outputs": [
    {
     "name": "stdout",
     "output_type": "stream",
     "text": [
      "1\n",
      "2\n",
      "4\n",
      "5\n",
      "6\n"
     ]
    }
   ],
   "source": [
    "i = 0\n",
    "while i < 6:\n",
    "  i += 1\n",
    "  if i == 3:\n",
    "    continue\n",
    "  print(i)"
   ]
  },
  {
   "cell_type": "markdown",
   "id": "2dd2c7c2-237d-4f21-a195-85fbc0f6f065",
   "metadata": {},
   "source": [
    "The else Statement"
   ]
  },
  {
   "cell_type": "code",
   "execution_count": 16,
   "id": "71d7db68-844e-40fe-ae44-9836c058c2f9",
   "metadata": {},
   "outputs": [
    {
     "name": "stdout",
     "output_type": "stream",
     "text": [
      "1\n",
      "2\n",
      "3\n",
      "4\n",
      "5\n",
      "i is no longer less than 6\n"
     ]
    }
   ],
   "source": [
    "i = 1\n",
    "while i < 6:\n",
    "  print(i)\n",
    "  i += 1\n",
    "else:\n",
    "  print(\"i is no longer less than 6\")"
   ]
  }
 ],
 "metadata": {
  "kernelspec": {
   "display_name": "Python [conda env:base] *",
   "language": "python",
   "name": "conda-base-py"
  },
  "language_info": {
   "codemirror_mode": {
    "name": "ipython",
    "version": 3
   },
   "file_extension": ".py",
   "mimetype": "text/x-python",
   "name": "python",
   "nbconvert_exporter": "python",
   "pygments_lexer": "ipython3",
   "version": "3.12.7"
  }
 },
 "nbformat": 4,
 "nbformat_minor": 5
}

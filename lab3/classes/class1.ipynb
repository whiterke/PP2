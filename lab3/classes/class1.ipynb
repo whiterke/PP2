{
 "cells": [
  {
   "cell_type": "code",
   "execution_count": 1,
   "id": "e3f0061e-99e2-46e2-aaf2-13bc501d32e9",
   "metadata": {},
   "outputs": [
    {
     "name": "stdin",
     "output_type": "stream",
     "text": [
      "Your string: all of you my slaves\n"
     ]
    },
    {
     "name": "stdout",
     "output_type": "stream",
     "text": [
      "all of you my slaves\n"
     ]
    }
   ],
   "source": [
    "#1.Define a class which has at least two methods: getString: to get a string from console input printString: to print the string in upper case.\n",
    "class Strings_Master():\n",
    "    def __init__(self):\n",
    "        self.string = \"\"\n",
    "\n",
    "    def getString(self):\n",
    "        self.string = input(\"Your string:\")\n",
    "    \n",
    "    def printString(self):\n",
    "        print(self.string)\n",
    "\n",
    "string = Strings_Master()\n",
    "string.getString()\n",
    "string.printString()"
   ]
  }
 ],
 "metadata": {
  "kernelspec": {
   "display_name": "Python [conda env:base] *",
   "language": "python",
   "name": "conda-base-py"
  },
  "language_info": {
   "codemirror_mode": {
    "name": "ipython",
    "version": 3
   },
   "file_extension": ".py",
   "mimetype": "text/x-python",
   "name": "python",
   "nbconvert_exporter": "python",
   "pygments_lexer": "ipython3",
   "version": "3.12.7"
  }
 },
 "nbformat": 4,
 "nbformat_minor": 5
}

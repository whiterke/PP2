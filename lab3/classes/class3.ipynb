{
 "cells": [
  {
   "cell_type": "code",
   "execution_count": null,
   "id": "fff1d689-16df-4757-80c4-adf77bc902c0",
   "metadata": {},
   "outputs": [],
   "source": [
    "'''3.Define a class named Rectangle which inherits from Shape class from task 2. \n",
    "Class instance can be constructed by a length and width.\n",
    "The Rectangle class has a method which can compute the area.'''\n",
    "class Shape():\n",
    "    def __init__(self):\n",
    "        pass\n",
    "\n",
    "    def area(self):\n",
    "        return 0;\n",
    "\n",
    "class Square(Shape):\n",
    "    def __init__(self, length):\n",
    "        super().__init__()\n",
    "        self.length = length\n",
    "\n",
    "    def area(self):\n",
    "        return self.length ** 2\n",
    "\n",
    "class Rectangles(Shape):\n",
    "    def __init__(self, length, width):\n",
    "        super().__init__()\n",
    "        self.length = length\n",
    "        self.width = width\n",
    "\n",
    "    def area(self):\n",
    "        return self.length * self.width\n",
    "    \n",
    "\n",
    "shape = Shape()\n",
    "a = int(input())\n",
    "b = int(input())\n",
    "rectangle = Rectangles(a, b)\n",
    "print(\"Area of Rectangle:\", rectangle.area())"
   ]
  },
  {
   "cell_type": "code",
   "execution_count": null,
   "id": "4f29aac3-7946-4423-a757-60aa84b3689e",
   "metadata": {},
   "outputs": [],
   "source": []
  }
 ],
 "metadata": {
  "kernelspec": {
   "display_name": "Python [conda env:base] *",
   "language": "python",
   "name": "conda-base-py"
  },
  "language_info": {
   "codemirror_mode": {
    "name": "ipython",
    "version": 3
   },
   "file_extension": ".py",
   "mimetype": "text/x-python",
   "name": "python",
   "nbconvert_exporter": "python",
   "pygments_lexer": "ipython3",
   "version": "3.12.7"
  }
 },
 "nbformat": 4,
 "nbformat_minor": 5
}

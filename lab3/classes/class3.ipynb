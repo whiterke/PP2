{
 "cells": [
  {
   "cell_type": "code",
   "execution_count": 14,
   "id": "fff1d689-16df-4757-80c4-adf77bc902c0",
   "metadata": {},
   "outputs": [
    {
     "name": "stdin",
     "output_type": "stream",
     "text": [
      "Enter length:  5\n",
      "Enter width:  6\n"
     ]
    },
    {
     "name": "stdout",
     "output_type": "stream",
     "text": [
      "Area of Rectangle: 30\n"
     ]
    }
   ],
   "source": [
    "'''3.Define a class named Rectangle which inherits from Shape class from task 2. \n",
    "Class instance can be constructed by a length and width.\n",
    "The Rectangle class has a method which can compute the area.'''\n",
    "class Shape:\n",
    "    def area(self):\n",
    "        pass  \n",
    "\n",
    "class Rectangle(Shape):\n",
    "    def __init__(self, length, width):\n",
    "        self.length = length\n",
    "        self.width = width\n",
    "\n",
    "    def area(self):\n",
    "        return self.length * self.width \n",
    "\n",
    "\n",
    "length = int(input(\"Enter length: \"))\n",
    "width = int(input(\"Enter width: \"))\n",
    "\n",
    "square = Rectangle(length, width)  \n",
    "print(\"Area of Rectangle:\", square.area())  \n"
   ]
  },
  {
   "cell_type": "code",
   "execution_count": null,
   "id": "4f29aac3-7946-4423-a757-60aa84b3689e",
   "metadata": {},
   "outputs": [],
   "source": []
  }
 ],
 "metadata": {
  "kernelspec": {
   "display_name": "Python [conda env:base] *",
   "language": "python",
   "name": "conda-base-py"
  },
  "language_info": {
   "codemirror_mode": {
    "name": "ipython",
    "version": 3
   },
   "file_extension": ".py",
   "mimetype": "text/x-python",
   "name": "python",
   "nbconvert_exporter": "python",
   "pygments_lexer": "ipython3",
   "version": "3.12.7"
  }
 },
 "nbformat": 4,
 "nbformat_minor": 5
}

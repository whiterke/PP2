{
 "cells": [
  {
   "cell_type": "code",
   "execution_count": null,
   "id": "43c34dd4-5715-45ce-9436-f259cfe422c0",
   "metadata": {},
   "outputs": [],
   "source": [
    "'''4.Write the definition of a Point class. Objects from this class should have a\n",
    "\n",
    "a method show to display the coordinates of the point\n",
    "a method move to change these coordinates\n",
    "a method dist that computes the distance between 2 points'''\n",
    "\n",
    "import math\n",
    "\n",
    "class Point():\n",
    "    def __init__(self, x, y):\n",
    "        self.x = x\n",
    "        self.y = y\n",
    "\n",
    "    def show(self):\n",
    "        print(f\"Point coordinates: ({self.x}, {self.y})\")\n",
    "\n",
    "    def movies(self, newx, newy):\n",
    "        self.x += newx\n",
    "        self.y += newy\n",
    "\n",
    "    def dist(self, point):\n",
    "        newx = self.x - point.x\n",
    "        newy = self.y - point.y\n",
    "        distance = math.sqrt(newx ** 2 + newy ** 2)\n",
    "        return distance\n",
    "\n",
    "print(\"first coordinates\")\n",
    "x = int(input())\n",
    "y = int(input())\n",
    "print(\"second coordinates\")\n",
    "dx = int(input())\n",
    "dy = int(input())\n",
    "\n",
    "point = Point(x, y)\n",
    "moves = Point(dx, dy)\n",
    "\n",
    "point.show()\n",
    "moves.show()\n",
    "\n",
    "distance = point.dist(moves)\n",
    "print(\"Distance:\", distance)"
   ]
  }
 ],
 "metadata": {
  "kernelspec": {
   "display_name": "Python [conda env:base] *",
   "language": "python",
   "name": "conda-base-py"
  },
  "language_info": {
   "codemirror_mode": {
    "name": "ipython",
    "version": 3
   },
   "file_extension": ".py",
   "mimetype": "text/x-python",
   "name": "python",
   "nbconvert_exporter": "python",
   "pygments_lexer": "ipython3",
   "version": "3.12.7"
  }
 },
 "nbformat": 4,
 "nbformat_minor": 5
}

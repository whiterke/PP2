{
 "cells": [
  {
   "cell_type": "code",
   "execution_count": null,
   "id": "7d2966b9-98e1-41e0-b6ac-abf3b148bf8b",
   "metadata": {},
   "outputs": [
    {
     "name": "stdout",
     "output_type": "stream",
     "text": [
      "Summ of transition:\n"
     ]
    }
   ],
   "source": [
    "'''5.Create a bank account class that has attributes owner, balance and two methods deposit and withdraw. \n",
    "Withdrawals may not exceed the available balance.\n",
    "Instantiate your class, make several deposits and withdrawals, and test to make sure the account can't be overdrawn.'''\n",
    "class Account():\n",
    "    def __init__(self, owner, balance = 0):\n",
    "        self.owner = owner\n",
    "        self.balance = balance\n",
    "\n",
    "    def deposit(self, money):\n",
    "        if money > 0:\n",
    "            self.balance += money\n",
    "            print(\"Your balance now:\", self.balance)\n",
    "        else:\n",
    "            pass\n",
    "\n",
    "    def withdraw(self, draw):\n",
    "        self.balance -= draw\n",
    "        print(\"Your balance now:\", self.balance)\n",
    "\n",
    "account = Account(\"Diana\", 1000)\n",
    "print(\"Summ of transition:\")\n",
    "i = int(input())\n",
    "account.deposit(i)\n",
    "print(\"Pay the draw:\")\n",
    "y = int(input())\n",
    "account.withdraw(y)"
   ]
  },
  {
   "cell_type": "code",
   "execution_count": null,
   "id": "5a235aaf-3876-4811-841a-8ef83aeff204",
   "metadata": {},
   "outputs": [],
   "source": []
  }
 ],
 "metadata": {
  "kernelspec": {
   "display_name": "Python [conda env:base] *",
   "language": "python",
   "name": "conda-base-py"
  },
  "language_info": {
   "codemirror_mode": {
    "name": "ipython",
    "version": 3
   },
   "file_extension": ".py",
   "mimetype": "text/x-python",
   "name": "python",
   "nbconvert_exporter": "python",
   "pygments_lexer": "ipython3",
   "version": "3.12.7"
  }
 },
 "nbformat": 4,
 "nbformat_minor": 5
}

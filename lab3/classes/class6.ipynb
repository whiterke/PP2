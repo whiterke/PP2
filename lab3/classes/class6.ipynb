{
 "cells": [
  {
   "cell_type": "code",
   "execution_count": null,
   "id": "e7d5ce71-b47d-4d6d-8c72-a909542dd0d2",
   "metadata": {},
   "outputs": [],
   "source": [
    "#6.Write a program which can filter prime numbers in a list by using filter function. Note: Use lambda to define anonymous functions.\n",
    "class PrimeFilter:\n",
    "    def prime(num):\n",
    "        if num <= 1:\n",
    "            return False\n",
    "        elif num == 2:\n",
    "            return True\n",
    "        elif num % 2 == 0:\n",
    "            return False\n",
    "        else:\n",
    "            for i in range(3, int(num**0.5) + 1, 2):\n",
    "                if num % i == 0:\n",
    "                    return False\n",
    "            return True\n",
    "\n",
    "    def filter(self, nums):\n",
    "        return list(filter(lambda x: self.prime(x), nums))"
   ]
  }
 ],
 "metadata": {
  "kernelspec": {
   "display_name": "Python [conda env:base] *",
   "language": "python",
   "name": "conda-base-py"
  },
  "language_info": {
   "codemirror_mode": {
    "name": "ipython",
    "version": 3
   },
   "file_extension": ".py",
   "mimetype": "text/x-python",
   "name": "python",
   "nbconvert_exporter": "python",
   "pygments_lexer": "ipython3",
   "version": "3.12.7"
  }
 },
 "nbformat": 4,
 "nbformat_minor": 5
}

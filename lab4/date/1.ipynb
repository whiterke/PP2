{
 "cells": [
  {
   "cell_type": "code",
   "execution_count": 1,
   "id": "c8e74f0a",
   "metadata": {},
   "outputs": [
    {
     "name": "stdout",
     "output_type": "stream",
     "text": [
      "02/12/25\n",
      "02/07/25\n"
     ]
    }
   ],
   "source": [
    "#Write a Python program to subtract five days from current date.\n",
    "from datetime import date, timedelta\n",
    "\n",
    "date = date.today()\n",
    "\n",
    "olddate = date - timedelta(5)\n",
    "\n",
    "print(date.strftime(\"%D\"))\n",
    "print(olddate.strftime(\"%D\"))"
   ]
  }
 ],
 "metadata": {
  "kernelspec": {
   "display_name": "Python 3 (ipykernel)",
   "language": "python",
   "name": "python3"
  },
  "language_info": {
   "codemirror_mode": {
    "name": "ipython",
    "version": 3
   },
   "file_extension": ".py",
   "mimetype": "text/x-python",
   "name": "python",
   "nbconvert_exporter": "python",
   "pygments_lexer": "ipython3",
   "version": "3.11.5"
  }
 },
 "nbformat": 4,
 "nbformat_minor": 5
}

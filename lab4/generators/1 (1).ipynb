{
 "cells": [
  {
   "cell_type": "code",
   "execution_count": 1,
   "id": "0b7e0209",
   "metadata": {},
   "outputs": [
    {
     "name": "stdout",
     "output_type": "stream",
     "text": [
      "5\n",
      "0 1 4 9 16 25\n"
     ]
    }
   ],
   "source": [
    "#Create a generator that generates the squares of numbers up to some number N.\n",
    "\n",
    "def square(num):\n",
    "    for i in range(num+1):\n",
    "        yield i*i\n",
    "\n",
    "a = int(input())\n",
    "print(*square(a))"
   ]
  }
 ],
 "metadata": {
  "kernelspec": {
   "display_name": "Python 3 (ipykernel)",
   "language": "python",
   "name": "python3"
  },
  "language_info": {
   "codemirror_mode": {
    "name": "ipython",
    "version": 3
   },
   "file_extension": ".py",
   "mimetype": "text/x-python",
   "name": "python",
   "nbconvert_exporter": "python",
   "pygments_lexer": "ipython3",
   "version": "3.11.5"
  }
 },
 "nbformat": 4,
 "nbformat_minor": 5
}

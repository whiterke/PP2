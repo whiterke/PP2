{
 "cells": [
  {
   "cell_type": "code",
   "execution_count": 1,
   "id": "2f942103",
   "metadata": {},
   "outputs": [
    {
     "name": "stdout",
     "output_type": "stream",
     "text": [
      "8\n",
      "0 2 4 6 8\n"
     ]
    }
   ],
   "source": [
    "#Write a program using generator to print the even numbers between 0 and n in comma separated form where n is input from console.\n",
    "\n",
    "def even(num):\n",
    "    for i in range(num+1):\n",
    "        if i%2 == 0:\n",
    "            yield i\n",
    "\n",
    "a = int(input())\n",
    "print(*even(a))"
   ]
  }
 ],
 "metadata": {
  "kernelspec": {
   "display_name": "Python 3 (ipykernel)",
   "language": "python",
   "name": "python3"
  },
  "language_info": {
   "codemirror_mode": {
    "name": "ipython",
    "version": 3
   },
   "file_extension": ".py",
   "mimetype": "text/x-python",
   "name": "python",
   "nbconvert_exporter": "python",
   "pygments_lexer": "ipython3",
   "version": "3.11.5"
  }
 },
 "nbformat": 4,
 "nbformat_minor": 5
}

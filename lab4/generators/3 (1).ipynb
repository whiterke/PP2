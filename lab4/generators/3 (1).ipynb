{
 "cells": [
  {
   "cell_type": "code",
   "execution_count": 2,
   "id": "8a20ef39",
   "metadata": {},
   "outputs": [
    {
     "name": "stdout",
     "output_type": "stream",
     "text": [
      "64\n",
      "0 12 24 36 48 60\n"
     ]
    }
   ],
   "source": [
    "#Define a function with a generator which can iterate the numbers, which are divisible by 3 and 4, between a given range 0 and n.\n",
    "def div(num):\n",
    "    for i in range(num+1):\n",
    "        if i%3 == 0 and i%4 == 0:\n",
    "            yield i\n",
    "\n",
    "a = int(input())\n",
    "print(*div(a))"
   ]
  }
 ],
 "metadata": {
  "kernelspec": {
   "display_name": "Python 3 (ipykernel)",
   "language": "python",
   "name": "python3"
  },
  "language_info": {
   "codemirror_mode": {
    "name": "ipython",
    "version": 3
   },
   "file_extension": ".py",
   "mimetype": "text/x-python",
   "name": "python",
   "nbconvert_exporter": "python",
   "pygments_lexer": "ipython3",
   "version": "3.11.5"
  }
 },
 "nbformat": 4,
 "nbformat_minor": 5
}

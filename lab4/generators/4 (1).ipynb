{
 "cells": [
  {
   "cell_type": "code",
   "execution_count": 1,
   "id": "31f373f7",
   "metadata": {},
   "outputs": [
    {
     "name": "stdout",
     "output_type": "stream",
     "text": [
      "5 \n",
      "6\n",
      "25 36\n"
     ]
    }
   ],
   "source": [
    "#Implement a generator called squares to yield the square of all numbers from (a) to (b). \n",
    "#Test it with a \"for\" loop and print each of the yielded values.\n",
    "def square(a, b):\n",
    "    for i in range(a, b+1):\n",
    "        yield i*i\n",
    "\n",
    "a = int(input())\n",
    "b = int(input())\n",
    "print(*square(a, b))"
   ]
  }
 ],
 "metadata": {
  "kernelspec": {
   "display_name": "Python 3 (ipykernel)",
   "language": "python",
   "name": "python3"
  },
  "language_info": {
   "codemirror_mode": {
    "name": "ipython",
    "version": 3
   },
   "file_extension": ".py",
   "mimetype": "text/x-python",
   "name": "python",
   "nbconvert_exporter": "python",
   "pygments_lexer": "ipython3",
   "version": "3.11.5"
  }
 },
 "nbformat": 4,
 "nbformat_minor": 5
}

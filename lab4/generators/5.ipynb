{
 "cells": [
  {
   "cell_type": "code",
   "execution_count": null,
   "id": "e9f7d5be",
   "metadata": {},
   "outputs": [],
   "source": [
    "#Implement a generator that returns all numbers from (n) down to 0.\n",
    "def down(a):\n",
    "    while a>=0:\n",
    "        yield a\n",
    "        a -= 1\n",
    "        \n",
    "\n",
    "a = int(input())\n",
    "print(*down(a))"
   ]
  }
 ],
 "metadata": {
  "kernelspec": {
   "display_name": "Python 3 (ipykernel)",
   "language": "python",
   "name": "python3"
  },
  "language_info": {
   "codemirror_mode": {
    "name": "ipython",
    "version": 3
   },
   "file_extension": ".py",
   "mimetype": "text/x-python",
   "name": "python",
   "nbconvert_exporter": "python",
   "pygments_lexer": "ipython3",
   "version": "3.11.5"
  }
 },
 "nbformat": 4,
 "nbformat_minor": 5
}

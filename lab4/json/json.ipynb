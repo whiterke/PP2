{
 "cells": [
  {
   "cell_type": "code",
   "execution_count": 24,
   "id": "ac0ee30f-0897-401a-af7d-4296afc060d5",
   "metadata": {},
   "outputs": [
    {
     "name": "stdout",
     "output_type": "stream",
     "text": [
      "Interface Status\n",
      "================================================================================\n",
      "DN                                                 Description          Speed    MTU   \n",
      "--------------------------------------------------------------------------------\n",
      "topology/pod-1/node-201/sys/phys-[eth1/33]                              inherit  9150  \n",
      "topology/pod-1/node-201/sys/phys-[eth1/34]                              inherit  9150  \n",
      "topology/pod-1/node-201/sys/phys-[eth1/35]                              inherit  9150  \n",
      "topology/pod-1/node-201/sys/phys-[eth1/36]                              inherit  9150  \n",
      "topology/pod-1/node-201/sys/phys-[eth1/1]                               inherit  9150  \n",
      "topology/pod-1/node-201/sys/phys-[eth1/2]                               inherit  9150  \n",
      "topology/pod-1/node-201/sys/phys-[eth1/3]                               inherit  9150  \n",
      "topology/pod-1/node-201/sys/phys-[eth1/4]                               inherit  9150  \n",
      "topology/pod-1/node-201/sys/phys-[eth1/5]                               inherit  9150  \n",
      "topology/pod-1/node-201/sys/phys-[eth1/6]                               inherit  9150  \n",
      "topology/pod-1/node-201/sys/phys-[eth1/7]                               inherit  9150  \n",
      "topology/pod-1/node-201/sys/phys-[eth1/8]                               inherit  9150  \n",
      "topology/pod-1/node-201/sys/phys-[eth1/9]                               inherit  9150  \n",
      "topology/pod-1/node-201/sys/phys-[eth1/10]                              inherit  9150  \n",
      "topology/pod-1/node-201/sys/phys-[eth1/11]                              inherit  9150  \n",
      "topology/pod-1/node-201/sys/phys-[eth1/12]                              inherit  9150  \n",
      "topology/pod-1/node-201/sys/phys-[eth1/13]                              inherit  9150  \n",
      "topology/pod-1/node-201/sys/phys-[eth1/14]                              inherit  9150  \n"
     ]
    }
   ],
   "source": [
    "import json\n",
    "\n",
    "# Load the JSON file\n",
    "with open(\"C:\\\\Users\\\\erkin\\\\OneDrive\\\\akerke\\\\PP2\\\\lab4\\\\json\\\\sample-data.json\", \"r\", encoding=\"utf-8\") as file:\n",
    "    notebook_data = json.load(file)\n",
    "\n",
    "# Extract the actual JSON content from the Jupyter Notebook format\n",
    "json_text = \"\".join(notebook_data[\"cells\"][0][\"source\"])\n",
    "data = json.loads(json_text)\n",
    "\n",
    "# Print the header\n",
    "print(\"Interface Status\")\n",
    "print(\"=\" * 80)\n",
    "print(f\"{'DN':<50} {'Description':<20} {'Speed':<8} {'MTU':<6}\")\n",
    "print(\"-\" * 80)\n",
    "\n",
    "# Extract interface data\n",
    "for item in data[\"imdata\"]:\n",
    "    attributes = item[\"l1PhysIf\"][\"attributes\"]\n",
    "    dn = attributes.get(\"dn\", \"\")\n",
    "    description = attributes.get(\"descr\", \"\")\n",
    "    speed = attributes.get(\"speed\", \"inherit\")\n",
    "    mtu = attributes.get(\"mtu\", \"9150\")  # Default MTU value if not found\n",
    "    \n",
    "    print(f\"{dn:<50} {description:<20} {speed:<8} {mtu:<6}\")\n",
    "\n",
    "\n"
   ]
  }
 ],
 "metadata": {
  "kernelspec": {
   "display_name": "Python [conda env:base] *",
   "language": "python",
   "name": "conda-base-py"
  },
  "language_info": {
   "codemirror_mode": {
    "name": "ipython",
    "version": 3
   },
   "file_extension": ".py",
   "mimetype": "text/x-python",
   "name": "python",
   "nbconvert_exporter": "python",
   "pygments_lexer": "ipython3",
   "version": "3.12.7"
  }
 },
 "nbformat": 4,
 "nbformat_minor": 5
}

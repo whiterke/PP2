{
 "cells": [
  {
   "cell_type": "code",
   "execution_count": 1,
   "id": "a4ae6538",
   "metadata": {},
   "outputs": [
    {
     "name": "stdout",
     "output_type": "stream",
     "text": [
      "Height:5\n",
      "Base, first value:5\n",
      "Base, second value:6\n",
      "Area: 27.5\n"
     ]
    }
   ],
   "source": [
    "#Write a Python program to calculate the area of a trapezoid.\n",
    "import math\n",
    "\n",
    "h = int(input(\"Height:\"))\n",
    "sb = int(input(\"Base, first value:\"))\n",
    "bb = int(input(\"Base, second value:\"))\n",
    "\n",
    "print(\"Area:\", (sb+bb)*h/2)"
   ]
  }
 ],
 "metadata": {
  "kernelspec": {
   "display_name": "Python 3 (ipykernel)",
   "language": "python",
   "name": "python3"
  },
  "language_info": {
   "codemirror_mode": {
    "name": "ipython",
    "version": 3
   },
   "file_extension": ".py",
   "mimetype": "text/x-python",
   "name": "python",
   "nbconvert_exporter": "python",
   "pygments_lexer": "ipython3",
   "version": "3.11.5"
  }
 },
 "nbformat": 4,
 "nbformat_minor": 5
}

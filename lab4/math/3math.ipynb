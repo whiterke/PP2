{
 "cells": [
  {
   "cell_type": "code",
   "execution_count": 1,
   "id": "65a08323",
   "metadata": {},
   "outputs": [
    {
     "name": "stdout",
     "output_type": "stream",
     "text": [
      "Input number of sides:4\n",
      "Input the length of a side:25\n",
      "The area of the polygon is: 625.0000000000001\n"
     ]
    }
   ],
   "source": [
    "#Write a Python program to calculate the area of regular polygon.\n",
    "import math\n",
    "\n",
    "a = int(input(\"Input number of sides:\"))\n",
    "b = int(input(\"Input the length of a side:\"))\n",
    "c = b/(2 * math.tan(math.pi/a))\n",
    "\n",
    "print(\"The area of the polygon is:\", a*b*c/2)"
   ]
  }
 ],
 "metadata": {
  "kernelspec": {
   "display_name": "Python 3 (ipykernel)",
   "language": "python",
   "name": "python3"
  },
  "language_info": {
   "codemirror_mode": {
    "name": "ipython",
    "version": 3
   },
   "file_extension": ".py",
   "mimetype": "text/x-python",
   "name": "python",
   "nbconvert_exporter": "python",
   "pygments_lexer": "ipython3",
   "version": "3.11.5"
  }
 },
 "nbformat": 4,
 "nbformat_minor": 5
}

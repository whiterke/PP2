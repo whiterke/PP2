{
 "cells": [
  {
   "cell_type": "code",
   "execution_count": 1,
   "id": "f8b103e9",
   "metadata": {},
   "outputs": [
    {
     "name": "stdout",
     "output_type": "stream",
     "text": [
      "176400.0\n"
     ]
    }
   ],
   "source": [
    "#Write a Python program to calculate two date difference in seconds.\n",
    "from datetime import datetime\n",
    "\n",
    "date1 = datetime(2021, 2, 15, 20, 00, 00)\n",
    "date2 = datetime(2021, 2, 17, 21, 00, 00)\n",
    "\n",
    "diff = date2 - date1\n",
    "\n",
    "print(diff.total_seconds())"
   ]
  }
 ],
 "metadata": {
  "kernelspec": {
   "display_name": "Python 3 (ipykernel)",
   "language": "python",
   "name": "python3"
  },
  "language_info": {
   "codemirror_mode": {
    "name": "ipython",
    "version": 3
   },
   "file_extension": ".py",
   "mimetype": "text/x-python",
   "name": "python",
   "nbconvert_exporter": "python",
   "pygments_lexer": "ipython3",
   "version": "3.11.5"
  }
 },
 "nbformat": 4,
 "nbformat_minor": 5
}

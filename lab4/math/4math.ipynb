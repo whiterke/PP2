{
 "cells": [
  {
   "cell_type": "code",
   "execution_count": 1,
   "id": "7b048942",
   "metadata": {},
   "outputs": [
    {
     "name": "stdout",
     "output_type": "stream",
     "text": [
      "Length of base:5\n",
      "Height of parallelogram:6\n",
      "Expected Output: 30\n"
     ]
    }
   ],
   "source": [
    "#Write a Python program to calculate the area of a parallelogram.\n",
    "import math\n",
    "\n",
    "a = int(input(\"Length of base:\"))\n",
    "b = int(input(\"Height of parallelogram:\"))\n",
    "\n",
    "print(\"Expected Output:\", a*b)"
   ]
  }
 ],
 "metadata": {
  "kernelspec": {
   "display_name": "Python 3 (ipykernel)",
   "language": "python",
   "name": "python3"
  },
  "language_info": {
   "codemirror_mode": {
    "name": "ipython",
    "version": 3
   },
   "file_extension": ".py",
   "mimetype": "text/x-python",
   "name": "python",
   "nbconvert_exporter": "python",
   "pygments_lexer": "ipython3",
   "version": "3.11.5"
  }
 },
 "nbformat": 4,
 "nbformat_minor": 5
}

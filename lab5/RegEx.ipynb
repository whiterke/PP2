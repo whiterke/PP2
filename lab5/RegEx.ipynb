{
 "cells": [
  {
   "cell_type": "code",
   "execution_count": 1,
   "id": "caa14847-d423-44c1-a856-50eac92d0363",
   "metadata": {},
   "outputs": [
    {
     "name": "stdout",
     "output_type": "stream",
     "text": [
      "['ab', 'abb', 'abbb', 'a', 'a', 'ab']\n"
     ]
    }
   ],
   "source": [
    "#1 Write a Python program that matches a string that has an 'a' followed by zero or more 'b''s.\n",
    "import re\n",
    "\n",
    "s = \"ab abb abbb a ac abc\"  \n",
    "m = re.findall(r'ab*', s)  \n",
    "\n",
    "if m:\n",
    "    print(m)\n",
    "else:\n",
    "    print(\"ERROR\")\n"
   ]
  },
  {
   "cell_type": "code",
   "execution_count": 3,
   "id": "85ae19be-05b0-4d0a-93c9-892215004e64",
   "metadata": {},
   "outputs": [
    {
     "name": "stdout",
     "output_type": "stream",
     "text": [
      "['abb', 'abbb']\n"
     ]
    }
   ],
   "source": [
    "#2 Write a Python program that matches a string that has an 'a' followed by two to three 'b'.\n",
    "import re\n",
    "\n",
    "s = \"ab abb abbb a ac abc\"  \n",
    "m = re.findall(r'ab{2,3}', s)  \n",
    "\n",
    "if m:\n",
    "    print(m)\n",
    "else:\n",
    "    print(\"ERROR\")"
   ]
  },
  {
   "cell_type": "code",
   "execution_count": 9,
   "id": "77cd4258-a1eb-48aa-bbc3-b1a3566467c1",
   "metadata": {},
   "outputs": [
    {
     "name": "stdin",
     "output_type": "stream",
     "text": [
      "Enter a string:  hello_world test_string example_test not_matched123 another test\n"
     ]
    },
    {
     "name": "stdout",
     "output_type": "stream",
     "text": [
      "['hello_world', 'test_string', 'example_test', 'not_matched']\n"
     ]
    }
   ],
   "source": [
    "#3 Write a Python program to find sequences of lowercase letters joined with a underscore.\n",
    "import re\n",
    "\n",
    "s =  input(\"Enter a string: \")\n",
    "m = re.findall(r'[a-z]+_[a-z]+', s) \n",
    "if m:\n",
    "    print(m)\n",
    "else:\n",
    "    print(\"ERROR\")"
   ]
  },
  {
   "cell_type": "code",
   "execution_count": 11,
   "id": "713fa687-215c-4bfe-9a37-09375c94ea7a",
   "metadata": {},
   "outputs": [
    {
     "name": "stdin",
     "output_type": "stream",
     "text": [
      "Enter a string:  Hello World, this is a Test String with Some Matches.\n"
     ]
    },
    {
     "name": "stdout",
     "output_type": "stream",
     "text": [
      "['Hello', 'World', 'Test', 'String', 'Some', 'Matches']\n"
     ]
    }
   ],
   "source": [
    "#4 Write a Python program to find the sequences of one upper case letter followed by lower case letters.\n",
    "import re\n",
    "\n",
    "s =  input(\"Enter a string: \")\n",
    "m = re.findall(r'[A-Z][a-z]+', s) \n",
    "if m:\n",
    "    print(m)\n",
    "else:\n",
    "    print(\"ERROR\")"
   ]
  },
  {
   "cell_type": "code",
   "execution_count": 27,
   "id": "587801c9-9ace-4343-8033-6e3b637c0959",
   "metadata": {},
   "outputs": [
    {
     "name": "stdin",
     "output_type": "stream",
     "text": [
      "Enter a string:  abb\n"
     ]
    },
    {
     "name": "stdout",
     "output_type": "stream",
     "text": [
      "['abb']\n"
     ]
    }
   ],
   "source": [
    "#5 Write a Python program that matches a string that has an 'a' followed by anything, ending in 'b'.\n",
    "import re\n",
    "\n",
    "s = input(\"Enter a string: \")  \n",
    "m = re.findall(r'a.*b$', s) \n",
    "\n",
    "if m:\n",
    "    print(m)\n",
    "else:\n",
    "    print(\"ERROR\")"
   ]
  },
  {
   "cell_type": "code",
   "execution_count": 33,
   "id": "0804b949-0791-4075-8fe5-84b5f9c2b149",
   "metadata": {},
   "outputs": [
    {
     "name": "stdin",
     "output_type": "stream",
     "text": [
      "Enter a string:  Hello, world. This is a test.\n"
     ]
    },
    {
     "name": "stdout",
     "output_type": "stream",
     "text": [
      "Hello::world::This:is:a:test:\n"
     ]
    }
   ],
   "source": [
    "#6 Write a Python program to replace all occurrences of space, comma, or dot with a colon.\n",
    "import re\n",
    "s = input(\"Enter a string: \") \n",
    "p = re.sub(r'[ ,.]', ':', s)\n",
    "print(p)"
   ]
  },
  {
   "cell_type": "code",
   "execution_count": 37,
   "id": "00d70ce7-c36e-4c39-ab2c-961f58482020",
   "metadata": {},
   "outputs": [
    {
     "name": "stdin",
     "output_type": "stream",
     "text": [
      "Enter a string:  hello_world_python_program\n"
     ]
    },
    {
     "name": "stdout",
     "output_type": "stream",
     "text": [
      "helloWorldPythonProgram\n"
     ]
    }
   ],
   "source": [
    "\n",
    "#7 Write a python program to convert snake case string to camel case string.\n",
    "import re\n",
    "s = input(\"Enter a string: \")\n",
    "def toCamel(snake):\n",
    "    return snake.group(1).upper()\n",
    "    \n",
    "p = re.sub(r'_([a-z])', toCamel, s)\n",
    "print(p)"
   ]
  },
  {
   "cell_type": "code",
   "execution_count": 39,
   "id": "36644970-51c8-4558-ab59-cb1192a9bdba",
   "metadata": {},
   "outputs": [
    {
     "name": "stdin",
     "output_type": "stream",
     "text": [
      "Enter a string:  HelloWorldPythonProgram\n"
     ]
    },
    {
     "name": "stdout",
     "output_type": "stream",
     "text": [
      "Hello World Python Program\n"
     ]
    }
   ],
   "source": [
    "#8 Write a Python program to split a string at uppercase letters.\n",
    "import re\n",
    "s = input(\"Enter a string: \")\n",
    "def splits(words):\n",
    "    words = re.findall(r'[A-Z][a-z]*', s)\n",
    "    return words\n",
    "\n",
    "a = ' '.join(splits(s)) \n",
    "print(a)"
   ]
  },
  {
   "cell_type": "code",
   "execution_count": 41,
   "id": "2e7130e7-bb24-4a44-8fba-f0660e46eebe",
   "metadata": {},
   "outputs": [
    {
     "name": "stdin",
     "output_type": "stream",
     "text": [
      "Enter a string:  HelloWorldPythonProgram\n"
     ]
    },
    {
     "name": "stdout",
     "output_type": "stream",
     "text": [
      " Hello World Python Program\n"
     ]
    }
   ],
   "source": [
    "#9 Write a Python program to insert spaces between words starting with capital letters.\n",
    "import re\n",
    "s = input(\"Enter a string: \")\n",
    "def spaces(word):\n",
    "    return ' ' + word.group(0)\n",
    "\n",
    "p = re.sub(r'[A-Z]', spaces, s)\n",
    "print(p)"
   ]
  },
  {
   "cell_type": "code",
   "execution_count": 43,
   "id": "014d7a5c-a686-441a-8384-69a3b5bba216",
   "metadata": {},
   "outputs": [
    {
     "name": "stdin",
     "output_type": "stream",
     "text": [
      "Enter a string:  HelloWorldPythonProgram\n"
     ]
    },
    {
     "name": "stdout",
     "output_type": "stream",
     "text": [
      "_hello_world_python_program\n"
     ]
    }
   ],
   "source": [
    "#10 Write a Python program to convert a given camel case string to snake case.\n",
    "import re\n",
    "s = input(\"Enter a string: \")\n",
    "def to_snake(camel):\n",
    "    return '_' + camel.group(0).lower()\n",
    "\n",
    "p = re.sub(r'[A-Z][a-z]', to_snake, s)\n",
    "print(p)"
   ]
  },
  {
   "cell_type": "code",
   "execution_count": null,
   "id": "0516f66a-56ec-41ad-b166-25395f9deadf",
   "metadata": {},
   "outputs": [],
   "source": []
  }
 ],
 "metadata": {
  "kernelspec": {
   "display_name": "Python [conda env:base] *",
   "language": "python",
   "name": "conda-base-py"
  },
  "language_info": {
   "codemirror_mode": {
    "name": "ipython",
    "version": 3
   },
   "file_extension": ".py",
   "mimetype": "text/x-python",
   "name": "python",
   "nbconvert_exporter": "python",
   "pygments_lexer": "ipython3",
   "version": "3.12.7"
  }
 },
 "nbformat": 4,
 "nbformat_minor": 5
}

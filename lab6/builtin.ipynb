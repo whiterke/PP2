{
 "cells": [
  {
   "cell_type": "code",
   "execution_count": null,
   "id": "b859b0a5-81f8-49a4-ba34-e974aca6b165",
   "metadata": {},
   "outputs": [],
   "source": []
  },
  {
   "cell_type": "code",
   "execution_count": 2,
   "id": "9fb1b629-ebd1-403c-8cd9-a28f67a62a06",
   "metadata": {},
   "outputs": [
    {
     "name": "stdin",
     "output_type": "stream",
     "text": [
      " 6 6 7 8\n"
     ]
    },
    {
     "name": "stdout",
     "output_type": "stream",
     "text": [
      "2016\n"
     ]
    },
    {
     "name": "stdin",
     "output_type": "stream",
     "text": [
      " My BiRthday un tHe summeR\n"
     ]
    },
    {
     "name": "stdout",
     "output_type": "stream",
     "text": [
      "uppers:  5\n",
      "lowers:  16\n"
     ]
    },
    {
     "name": "stdin",
     "output_type": "stream",
     "text": [
      " kazak\n"
     ]
    },
    {
     "name": "stdout",
     "output_type": "stream",
     "text": [
      "palindrom\n"
     ]
    },
    {
     "name": "stdin",
     "output_type": "stream",
     "text": [
      " 65123487\n",
      " 98654\n"
     ]
    },
    {
     "name": "stdout",
     "output_type": "stream",
     "text": [
      "Square root of 98654 after 65123487 milliseconds is 314.0923431094747\n",
      "t1 - True\n",
      "t2 - False\n"
     ]
    }
   ],
   "source": [
    "import math\n",
    "import time\n",
    "\n",
    "#1 Write a Python program with builtin function to multiply all the numbers in a list\n",
    "numb = list(map(int, input().split()))\n",
    "print(math.prod(numb))\n",
    "\n",
    "#2 Write a Python program with builtin\n",
    "#function that accepts a string and calculate the number of upper case letters and lower case letters\n",
    "s = input()\n",
    "u=0\n",
    "l=0\n",
    "for char in s:\n",
    "    if char.isupper():\n",
    "        u+=1\n",
    "for char in s:\n",
    "    if char.islower():\n",
    "        l+=1\n",
    "print(\"uppers: \",u)\n",
    "print(\"lowers: \",l)\n",
    "\n",
    "#3 Write a Python program with builtin function that checks whether a passed string is palindrome or not.\n",
    "s = input()\n",
    "def pal(s):\n",
    "    for i in s:\n",
    "        d = ''.join(i.lower())\n",
    "    return d == d[::-1]\n",
    "if pal(s):\n",
    "    print(\"palindrom\")\n",
    "else:\n",
    "   print(\"not palindrom\") \n",
    "\n",
    "#4 Write a Python program that invoke square root function after specific milliseconds\n",
    "msec = int(input())\n",
    "a = int(input())\n",
    "print(f\"Square root of {a} after {msec} milliseconds is {math.sqrt(a)}\")\n",
    "\n",
    "#5 Write a Python program with builtin function that returns True if all elements of the tuple are true.\n",
    "t1 = (True, True, True)\n",
    "t2 = (True, False, False)\n",
    "\n",
    "if all(t1):\n",
    "    print(\"t1 - True\")\n",
    "else:\n",
    "    print(\"t1 - False\")\n",
    "\n",
    "if all(t2):\n",
    "    print(\"t2 - True\")\n",
    "else:\n",
    "    print(\"t2 - False\")"
   ]
  }
 ],
 "metadata": {
  "kernelspec": {
   "display_name": "Python [conda env:base] *",
   "language": "python",
   "name": "conda-base-py"
  },
  "language_info": {
   "codemirror_mode": {
    "name": "ipython",
    "version": 3
   },
   "file_extension": ".py",
   "mimetype": "text/x-python",
   "name": "python",
   "nbconvert_exporter": "python",
   "pygments_lexer": "ipython3",
   "version": "3.12.7"
  }
 },
 "nbformat": 4,
 "nbformat_minor": 5
}
